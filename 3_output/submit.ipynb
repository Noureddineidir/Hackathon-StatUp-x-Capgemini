{
 "cells": [
  {
   "cell_type": "code",
   "execution_count": 1,
   "metadata": {},
   "outputs": [],
   "source": [
    "import pandas as pd\n",
    "import numpy as np\n",
    "from sklearn.model_selection import train_test_split\n",
    "import matplotlib.pyplot as plt\n",
    "from sklearn import preprocessing\n",
    "from sklearn.metrics import confusion_matrix\n",
    "from sklearn.metrics import f1_score, precision_score, recall_score\n",
    "from sklearn.linear_model import LogisticRegression\n",
    "from sklearn.ensemble import RandomForestClassifier\n",
    "from sklearn.linear_model import SGDClassifier"
   ]
  },
  {
   "cell_type": "markdown",
   "metadata": {},
   "source": [
    "## Train"
   ]
  },
  {
   "cell_type": "code",
   "execution_count": 3,
   "metadata": {},
   "outputs": [],
   "source": [
    "X = pd.read_csv(\"X_train_final_duration.csv\")"
   ]
  },
  {
   "cell_type": "code",
   "execution_count": 4,
   "metadata": {},
   "outputs": [],
   "source": [
    "X.drop(['meals_saved.1', 'total_supply.1', 'item_view.1'], axis=1, inplace=True)\n",
    "columns = []\n",
    "for i in range(1,16):\n",
    "    columns.append('meals_saved_lag_'+str(i))\n",
    "    columns.append('total_supply_lag_'+str(i))\n",
    "    columns.append('item_view_lag_'+str(i))"
   ]
  },
  {
   "cell_type": "code",
   "execution_count": 5,
   "metadata": {},
   "outputs": [],
   "source": [
    "X.drop(columns, axis=1, inplace=True)"
   ]
  },
  {
   "cell_type": "code",
   "execution_count": 6,
   "metadata": {},
   "outputs": [],
   "source": [
    "X_train = X.sample(n=300000, random_state=1)"
   ]
  },
  {
   "cell_type": "code",
   "execution_count": 7,
   "metadata": {},
   "outputs": [],
   "source": [
    "stringency = pd.read_excel(\"stringency.xlsx\")"
   ]
  },
  {
   "cell_type": "code",
   "execution_count": 8,
   "metadata": {},
   "outputs": [],
   "source": [
    "a = X_train['target'] != 0\n",
    "X_train['churn_duration'] = a.cumsum()-a.cumsum().where(~a).ffill().fillna(0).astype(int)"
   ]
  },
  {
   "cell_type": "code",
   "execution_count": 9,
   "metadata": {},
   "outputs": [],
   "source": [
    "X_train = X_train[X_train['churn_duration']<=15]\n",
    "X_train.drop(['churn_duration'], axis=1, inplace=True)\n",
    "X_train = X_train.dropna()\n",
    "\n",
    "\n",
    "stringency['date'] = pd.to_datetime(stringency['stringency'], format='%d%b%Y')\n",
    "stringency.drop(columns=['stringency'], axis=1, inplace=True)\n",
    "X_train['date'] = pd.to_datetime(X_train['date'])\n",
    "X_train = X_train.merge(stringency,how='left', on='date')\n",
    "X_train = X_train.fillna(0)\n",
    "\n",
    "\n",
    "y = X_train['target']\n",
    "X_train.drop(['target', 'date', 'store_id'], axis=1, inplace=True)\n",
    "X_train, X_test, y_train, y_test = train_test_split(X_train, y, test_size=0.25, random_state=42, shuffle=True)"
   ]
  },
  {
   "cell_type": "code",
   "execution_count": 10,
   "metadata": {},
   "outputs": [],
   "source": [
    "scaler = preprocessing.StandardScaler().fit(X_train)\n",
    "X_scaled = scaler.transform(X_train)"
   ]
  },
  {
   "cell_type": "code",
   "execution_count": 11,
   "metadata": {},
   "outputs": [
    {
     "data": {
      "text/plain": [
       "RandomForestClassifier(class_weight='balanced_subsample', max_depth=7,\n",
       "                       n_estimators=500, random_state=0)"
      ]
     },
     "execution_count": 11,
     "metadata": {},
     "output_type": "execute_result"
    }
   ],
   "source": [
    "rdf_clf = RandomForestClassifier(n_estimators=500, max_depth=7, random_state=0, class_weight='balanced_subsample')\n",
    "rdf_clf.fit(X_scaled, y_train)"
   ]
  },
  {
   "cell_type": "code",
   "execution_count": 13,
   "metadata": {},
   "outputs": [
    {
     "name": "stdout",
     "output_type": "stream",
     "text": [
      "[[14720  6600]\n",
      " [   86  3594]]\n",
      "Recall : 0.9766304347826087\n",
      "Precision : 0.35256032960565037\n",
      "F1 score : 0.5180913939743405\n"
     ]
    }
   ],
   "source": [
    "X_test_scaled = scaler.transform(X_test)\n",
    "\n",
    "y_pred = rdf_clf.predict(X_test_scaled)\n",
    "print(confusion_matrix(y_test, y_pred))\n",
    "print('Recall :', recall_score(y_test, y_pred))\n",
    "print('Precision :', precision_score(y_test, y_pred))\n",
    "print('F1 score :', f1_score(y_test, y_pred))"
   ]
  },
  {
   "cell_type": "markdown",
   "metadata": {},
   "source": [
    "## Test"
   ]
  },
  {
   "cell_type": "code",
   "execution_count": 81,
   "metadata": {},
   "outputs": [
    {
     "data": {
      "text/plain": [
       "(334378, 34)"
      ]
     },
     "execution_count": 81,
     "metadata": {},
     "output_type": "execute_result"
    }
   ],
   "source": [
    "test_features = pd.read_csv(\"test_features.csv\")\n",
    "test_features.shape"
   ]
  },
  {
   "cell_type": "code",
   "execution_count": 82,
   "metadata": {},
   "outputs": [],
   "source": [
    "X_test = pd.read_csv(\"final_test.csv\")"
   ]
  },
  {
   "cell_type": "code",
   "execution_count": 83,
   "metadata": {},
   "outputs": [],
   "source": [
    "X_test.drop(['meals_saved.1', 'total_supply.1', 'item_view.1'], axis=1, inplace=True)"
   ]
  },
  {
   "cell_type": "code",
   "execution_count": 84,
   "metadata": {},
   "outputs": [],
   "source": [
    "stringency = pd.read_excel(\"stringency.xlsx\")"
   ]
  },
  {
   "cell_type": "code",
   "execution_count": 85,
   "metadata": {},
   "outputs": [
    {
     "data": {
      "text/plain": [
       "(494515, 118)"
      ]
     },
     "execution_count": 85,
     "metadata": {},
     "output_type": "execute_result"
    }
   ],
   "source": [
    "X_test.shape"
   ]
  },
  {
   "cell_type": "code",
   "execution_count": 86,
   "metadata": {},
   "outputs": [],
   "source": [
    "s_item = X_test.item_view\n",
    "s_total = X_test.total_supply\n",
    "s_meals = X_test.meals_saved\n",
    "\n",
    "for i in range(1,16):\n",
    "    X_test['item_view_lag_' + str(i)].fillna(s_item, inplace=True)\n",
    "    \n",
    "\n",
    "for i in range(1,16):\n",
    "    X_test['total_supply_lag_' + str(i)].fillna(s_total, inplace=True)\n",
    "    \n",
    "for i in range(1,16):\n",
    "    X_test['meals_saved_lag_' + str(i)].fillna(s_meals, inplace=True)\n"
   ]
  },
  {
   "cell_type": "code",
   "execution_count": 87,
   "metadata": {},
   "outputs": [
    {
     "data": {
      "text/plain": [
       "Series([], dtype: int64)"
      ]
     },
     "execution_count": 87,
     "metadata": {},
     "output_type": "execute_result"
    }
   ],
   "source": [
    "X_test.isnull().sum()[X_test.isnull().sum()>0]"
   ]
  },
  {
   "cell_type": "code",
   "execution_count": 88,
   "metadata": {},
   "outputs": [],
   "source": [
    "stringency['date'] = pd.to_datetime(stringency['stringency'], format='%d%b%Y')\n",
    "stringency.drop(columns=['stringency'], axis=1, inplace=True)\n",
    "X_test['date'] = pd.to_datetime(X_test['date'])\n",
    "X_test = X_test.merge(stringency,how='left', on='date')\n",
    "X_test = X_test.fillna(0)\n",
    "\n",
    "\n",
    "to_keep = X_test[['date', 'store_id']]\n",
    "X_test.drop(['date', 'store_id'], axis=1, inplace=True)"
   ]
  },
  {
   "cell_type": "code",
   "execution_count": 89,
   "metadata": {},
   "outputs": [],
   "source": [
    "X_test_scaled = scaler.transform(X_test)"
   ]
  },
  {
   "cell_type": "code",
   "execution_count": 90,
   "metadata": {},
   "outputs": [],
   "source": [
    "y_test_pred = rdf_clf.predict(X_test_scaled)\n",
    "y_test_prob = rdf_clf.predict_proba(X_test_scaled)"
   ]
  },
  {
   "cell_type": "code",
   "execution_count": 91,
   "metadata": {},
   "outputs": [],
   "source": [
    "y_test_final = pd.concat([to_keep,pd.DataFrame(y_test_pred, columns=['target']),pd.DataFrame(y_test_prob, columns=['bhdie','score'])], axis=1)\n"
   ]
  },
  {
   "cell_type": "code",
   "execution_count": 92,
   "metadata": {},
   "outputs": [
    {
     "data": {
      "text/html": [
       "<div>\n",
       "<style scoped>\n",
       "    .dataframe tbody tr th:only-of-type {\n",
       "        vertical-align: middle;\n",
       "    }\n",
       "\n",
       "    .dataframe tbody tr th {\n",
       "        vertical-align: top;\n",
       "    }\n",
       "\n",
       "    .dataframe thead th {\n",
       "        text-align: right;\n",
       "    }\n",
       "</style>\n",
       "<table border=\"1\" class=\"dataframe\">\n",
       "  <thead>\n",
       "    <tr style=\"text-align: right;\">\n",
       "      <th></th>\n",
       "      <th>date</th>\n",
       "      <th>store_id</th>\n",
       "      <th>label</th>\n",
       "      <th>bhdie</th>\n",
       "      <th>score</th>\n",
       "    </tr>\n",
       "  </thead>\n",
       "  <tbody>\n",
       "    <tr>\n",
       "      <th>0</th>\n",
       "      <td>2020-04-29</td>\n",
       "      <td>75480.0</td>\n",
       "      <td>1</td>\n",
       "      <td>0.009027</td>\n",
       "      <td>0.990973</td>\n",
       "    </tr>\n",
       "    <tr>\n",
       "      <th>1</th>\n",
       "      <td>2020-04-30</td>\n",
       "      <td>75480.0</td>\n",
       "      <td>0</td>\n",
       "      <td>0.930725</td>\n",
       "      <td>0.069275</td>\n",
       "    </tr>\n",
       "    <tr>\n",
       "      <th>2</th>\n",
       "      <td>2020-05-01</td>\n",
       "      <td>75480.0</td>\n",
       "      <td>1</td>\n",
       "      <td>0.025599</td>\n",
       "      <td>0.974401</td>\n",
       "    </tr>\n",
       "    <tr>\n",
       "      <th>3</th>\n",
       "      <td>2020-04-28</td>\n",
       "      <td>75409.0</td>\n",
       "      <td>1</td>\n",
       "      <td>0.013179</td>\n",
       "      <td>0.986821</td>\n",
       "    </tr>\n",
       "    <tr>\n",
       "      <th>4</th>\n",
       "      <td>2020-04-29</td>\n",
       "      <td>75409.0</td>\n",
       "      <td>1</td>\n",
       "      <td>0.103443</td>\n",
       "      <td>0.896557</td>\n",
       "    </tr>\n",
       "    <tr>\n",
       "      <th>...</th>\n",
       "      <td>...</td>\n",
       "      <td>...</td>\n",
       "      <td>...</td>\n",
       "      <td>...</td>\n",
       "      <td>...</td>\n",
       "    </tr>\n",
       "    <tr>\n",
       "      <th>494510</th>\n",
       "      <td>2020-04-27</td>\n",
       "      <td>87.0</td>\n",
       "      <td>1</td>\n",
       "      <td>0.005755</td>\n",
       "      <td>0.994245</td>\n",
       "    </tr>\n",
       "    <tr>\n",
       "      <th>494511</th>\n",
       "      <td>2020-04-28</td>\n",
       "      <td>87.0</td>\n",
       "      <td>1</td>\n",
       "      <td>0.005525</td>\n",
       "      <td>0.994475</td>\n",
       "    </tr>\n",
       "    <tr>\n",
       "      <th>494512</th>\n",
       "      <td>2020-04-29</td>\n",
       "      <td>87.0</td>\n",
       "      <td>1</td>\n",
       "      <td>0.005571</td>\n",
       "      <td>0.994429</td>\n",
       "    </tr>\n",
       "    <tr>\n",
       "      <th>494513</th>\n",
       "      <td>2020-04-30</td>\n",
       "      <td>87.0</td>\n",
       "      <td>1</td>\n",
       "      <td>0.005363</td>\n",
       "      <td>0.994637</td>\n",
       "    </tr>\n",
       "    <tr>\n",
       "      <th>494514</th>\n",
       "      <td>2020-05-01</td>\n",
       "      <td>87.0</td>\n",
       "      <td>1</td>\n",
       "      <td>0.005061</td>\n",
       "      <td>0.994939</td>\n",
       "    </tr>\n",
       "  </tbody>\n",
       "</table>\n",
       "<p>494515 rows × 5 columns</p>\n",
       "</div>"
      ],
      "text/plain": [
       "             date  store_id  label     bhdie     score\n",
       "0      2020-04-29   75480.0      1  0.009027  0.990973\n",
       "1      2020-04-30   75480.0      0  0.930725  0.069275\n",
       "2      2020-05-01   75480.0      1  0.025599  0.974401\n",
       "3      2020-04-28   75409.0      1  0.013179  0.986821\n",
       "4      2020-04-29   75409.0      1  0.103443  0.896557\n",
       "...           ...       ...    ...       ...       ...\n",
       "494510 2020-04-27      87.0      1  0.005755  0.994245\n",
       "494511 2020-04-28      87.0      1  0.005525  0.994475\n",
       "494512 2020-04-29      87.0      1  0.005571  0.994429\n",
       "494513 2020-04-30      87.0      1  0.005363  0.994637\n",
       "494514 2020-05-01      87.0      1  0.005061  0.994939\n",
       "\n",
       "[494515 rows x 5 columns]"
      ]
     },
     "execution_count": 92,
     "metadata": {},
     "output_type": "execute_result"
    }
   ],
   "source": [
    "y_test_final"
   ]
  },
  {
   "cell_type": "code",
   "execution_count": 93,
   "metadata": {},
   "outputs": [],
   "source": [
    "test_features['date'] = pd.to_datetime(test_features['date'])\n",
    "y_test_final['date'] = pd.to_datetime(y_test_final['date'])\n",
    "res = test_features.merge(y_test_final, how='left', on=['date','store_id'])[['index', 'target', 'score']]"
   ]
  },
  {
   "cell_type": "code",
   "execution_count": 94,
   "metadata": {},
   "outputs": [],
   "source": [
    "res['score'] = np.round(res['score'],5)"
   ]
  },
  {
   "cell_type": "code",
   "execution_count": 143,
   "metadata": {},
   "outputs": [
    {
     "name": "stderr",
     "output_type": "stream",
     "text": [
      "/opt/anaconda3/lib/python3.8/site-packages/urllib3/connectionpool.py:979: InsecureRequestWarning: Unverified HTTPS request is being made to host '51.159.6.59'. Adding certificate verification is strongly advised. See: https://urllib3.readthedocs.io/en/latest/advanced-usage.html#ssl-warnings\n",
      "  warnings.warn(\n"
     ]
    },
    {
     "name": "stdout",
     "output_type": "stream",
     "text": [
      "{'date': '2021-04-10T13:31:54.875128',\n",
      " 'format': 'df',\n",
      " 'metadata': '{\"client\": [\"37.166.54.119\", 48510]}',\n",
      " 'name': 'Coni',\n",
      " 'project': 'tgtg',\n",
      " 'team': 'Equipe3',\n",
      " 'version': '16'}\n"
     ]
    }
   ],
   "source": [
    "def submit_random(url, password, version):\n",
    "    df = res\n",
    "    st = StringIO()\n",
    "    df.to_csv(st, index=False, line_terminator=\"\\n\")\n",
    "\n",
    "    data = {\n",
    "      \"name\": \"Coni\",\n",
    "      \"format\": \"df\",\n",
    "      \"team\": \"Equipe3\",\n",
    "      \"project\": \"tgtg\",\n",
    "      \"version\": \"16\",\n",
    "      \"content\": st.getvalue(),\n",
    "      \"password\": \"Ensae06CPdist\"\n",
    "    }\n",
    "\n",
    "    response = requests.post(url, json=data, verify=False)\n",
    "    return response\n",
    "\n",
    "url = \"https://51.159.6.59:8798/\"\n",
    "password = \"Ensae06CPdist\"\n",
    "\n",
    "response = submit_random(url + \"submit/\", password, \"8\")\n",
    "pprint.pprint(response.json())"
   ]
  },
  {
   "cell_type": "code",
   "execution_count": null,
   "metadata": {},
   "outputs": [],
   "source": []
  }
 ],
 "metadata": {
  "kernelspec": {
   "display_name": "Python 3",
   "language": "python",
   "name": "python3"
  },
  "language_info": {
   "codemirror_mode": {
    "name": "ipython",
    "version": 3
   },
   "file_extension": ".py",
   "mimetype": "text/x-python",
   "name": "python",
   "nbconvert_exporter": "python",
   "pygments_lexer": "ipython3",
   "version": "3.8.3"
  }
 },
 "nbformat": 4,
 "nbformat_minor": 4
}
