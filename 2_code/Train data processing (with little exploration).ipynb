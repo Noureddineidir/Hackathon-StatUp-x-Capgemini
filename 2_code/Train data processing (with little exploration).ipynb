{
 "cells": [
  {
   "cell_type": "markdown",
   "metadata": {
    "toc": true
   },
   "source": [
    "<h1>Table of Contents<span class=\"tocSkip\"></span></h1>\n",
    "<div class=\"toc\"><ul class=\"toc-item\"><li><span><a href=\"#Feature-engineering\" data-toc-modified-id=\"Feature-engineering-1\"><span class=\"toc-item-num\">1&nbsp;&nbsp;</span>Feature engineering</a></span><ul class=\"toc-item\"><li><span><a href=\"#Imputation\" data-toc-modified-id=\"Imputation-1.1\"><span class=\"toc-item-num\">1.1&nbsp;&nbsp;</span>Imputation</a></span></li><li><span><a href=\"#Date-indicator\" data-toc-modified-id=\"Date-indicator-1.2\"><span class=\"toc-item-num\">1.2&nbsp;&nbsp;</span>Date indicator</a></span></li></ul></li><li><span><a href=\"#Get-final-train-database\" data-toc-modified-id=\"Get-final-train-database-2\"><span class=\"toc-item-num\">2&nbsp;&nbsp;</span>Get final train database</a></span><ul class=\"toc-item\"><li><span><a href=\"#Feature-selection\" data-toc-modified-id=\"Feature-selection-2.1\"><span class=\"toc-item-num\">2.1&nbsp;&nbsp;</span>Feature selection</a></span><ul class=\"toc-item\"><li><span><a href=\"#Only-for-the-first--(old)-dataset\" data-toc-modified-id=\"Only-for-the-first--(old)-dataset-2.1.1\"><span class=\"toc-item-num\">2.1.1&nbsp;&nbsp;</span>Only for the first  (old) dataset</a></span><ul class=\"toc-item\"><li><span><a href=\"#Shift-target\" data-toc-modified-id=\"Shift-target-2.1.1.1\"><span class=\"toc-item-num\">2.1.1.1&nbsp;&nbsp;</span>Shift target</a></span></li></ul></li><li><span><a href=\"#For-the-new-dataset-(the-one-given-at-3am-:)-)\" data-toc-modified-id=\"For-the-new-dataset-(the-one-given-at-3am-:)-)-2.1.2\"><span class=\"toc-item-num\">2.1.2&nbsp;&nbsp;</span>For the new dataset (the one given at 3am :) )</a></span></li></ul></li><li><span><a href=\"#Lag-features\" data-toc-modified-id=\"Lag-features-2.2\"><span class=\"toc-item-num\">2.2&nbsp;&nbsp;</span>Lag features</a></span></li></ul></li></ul></div>"
   ]
  },
  {
   "cell_type": "code",
   "execution_count": 2,
   "metadata": {
    "ExecuteTime": {
     "end_time": "2021-04-12T08:27:07.863414Z",
     "start_time": "2021-04-12T08:27:03.910255Z"
    }
   },
   "outputs": [],
   "source": [
    "import pandas as pd\n",
    "\n",
    "\n",
    "import seaborn as sns\n",
    "import numpy as np\n",
    "import sklearn\n",
    "import scipy.stats\n",
    "\n",
    "from tqdm.notebook import tqdm\n",
    "import matplotlib.pyplot as plt\n",
    "%matplotlib inline\n",
    "#path= ''"
   ]
  },
  {
   "cell_type": "code",
   "execution_count": 3,
   "metadata": {
    "ExecuteTime": {
     "end_time": "2021-04-12T08:27:33.664242Z",
     "start_time": "2021-04-12T08:27:07.868830Z"
    }
   },
   "outputs": [
    {
     "name": "stderr",
     "output_type": "stream",
     "text": [
      "C:\\Users\\noureddine.oulid\\Anaconda3\\lib\\site-packages\\IPython\\core\\interactiveshell.py:3146: DtypeWarning: Columns (13,32) have mixed types.Specify dtype option on import or set low_memory=False.\n",
      "  has_raised = await self.run_ast_nodes(code_ast.body, cell_name,\n"
     ]
    }
   ],
   "source": [
    "data = pd.read_csv('train.csv')\n",
    "# data_test=pd.read_csv('test.csv')"
   ]
  },
  {
   "cell_type": "code",
   "execution_count": 4,
   "metadata": {
    "ExecuteTime": {
     "end_time": "2021-04-12T08:27:33.752886Z",
     "start_time": "2021-04-12T08:27:33.669711Z"
    },
    "scrolled": true
   },
   "outputs": [
    {
     "data": {
      "text/html": [
       "<div>\n",
       "<style scoped>\n",
       "    .dataframe tbody tr th:only-of-type {\n",
       "        vertical-align: middle;\n",
       "    }\n",
       "\n",
       "    .dataframe tbody tr th {\n",
       "        vertical-align: top;\n",
       "    }\n",
       "\n",
       "    .dataframe thead th {\n",
       "        text-align: right;\n",
       "    }\n",
       "</style>\n",
       "<table border=\"1\" class=\"dataframe\">\n",
       "  <thead>\n",
       "    <tr style=\"text-align: right;\">\n",
       "      <th></th>\n",
       "      <th>date</th>\n",
       "      <th>store_id</th>\n",
       "      <th>parent_chain_id</th>\n",
       "      <th>store_country</th>\n",
       "      <th>country_iso_code</th>\n",
       "      <th>region_id</th>\n",
       "      <th>store_region</th>\n",
       "      <th>store_segment</th>\n",
       "      <th>store_activity_name</th>\n",
       "      <th>items_first_enabled_date</th>\n",
       "      <th>...</th>\n",
       "      <th>store_cancellation</th>\n",
       "      <th>item_price</th>\n",
       "      <th>meals_refunded</th>\n",
       "      <th>rating_count</th>\n",
       "      <th>sum_rating_overall</th>\n",
       "      <th>item_view</th>\n",
       "      <th>no_unique_consumers</th>\n",
       "      <th>is_enabled</th>\n",
       "      <th>Département</th>\n",
       "      <th>target</th>\n",
       "    </tr>\n",
       "  </thead>\n",
       "  <tbody>\n",
       "    <tr>\n",
       "      <th>0</th>\n",
       "      <td>2019-06-02</td>\n",
       "      <td>4</td>\n",
       "      <td>NaN</td>\n",
       "      <td>France</td>\n",
       "      <td>FR</td>\n",
       "      <td>FR10</td>\n",
       "      <td>Ile-De-France</td>\n",
       "      <td>Bakery</td>\n",
       "      <td>Commercial</td>\n",
       "      <td>2019-06-03</td>\n",
       "      <td>...</td>\n",
       "      <td>0</td>\n",
       "      <td>3.99</td>\n",
       "      <td>0</td>\n",
       "      <td>0</td>\n",
       "      <td>0</td>\n",
       "      <td>0</td>\n",
       "      <td>0</td>\n",
       "      <td>False</td>\n",
       "      <td>75</td>\n",
       "      <td>0</td>\n",
       "    </tr>\n",
       "    <tr>\n",
       "      <th>1</th>\n",
       "      <td>2019-06-03</td>\n",
       "      <td>4</td>\n",
       "      <td>NaN</td>\n",
       "      <td>France</td>\n",
       "      <td>FR</td>\n",
       "      <td>FR10</td>\n",
       "      <td>Ile-De-France</td>\n",
       "      <td>Bakery</td>\n",
       "      <td>Commercial</td>\n",
       "      <td>2019-06-03</td>\n",
       "      <td>...</td>\n",
       "      <td>0</td>\n",
       "      <td>3.99</td>\n",
       "      <td>0</td>\n",
       "      <td>0</td>\n",
       "      <td>0</td>\n",
       "      <td>0</td>\n",
       "      <td>5</td>\n",
       "      <td>True</td>\n",
       "      <td>75</td>\n",
       "      <td>0</td>\n",
       "    </tr>\n",
       "    <tr>\n",
       "      <th>2</th>\n",
       "      <td>2019-06-04</td>\n",
       "      <td>4</td>\n",
       "      <td>NaN</td>\n",
       "      <td>France</td>\n",
       "      <td>FR</td>\n",
       "      <td>FR10</td>\n",
       "      <td>Ile-De-France</td>\n",
       "      <td>Bakery</td>\n",
       "      <td>Commercial</td>\n",
       "      <td>2019-06-03</td>\n",
       "      <td>...</td>\n",
       "      <td>0</td>\n",
       "      <td>3.99</td>\n",
       "      <td>0</td>\n",
       "      <td>1</td>\n",
       "      <td>5</td>\n",
       "      <td>0</td>\n",
       "      <td>4</td>\n",
       "      <td>True</td>\n",
       "      <td>75</td>\n",
       "      <td>0</td>\n",
       "    </tr>\n",
       "    <tr>\n",
       "      <th>3</th>\n",
       "      <td>2019-06-05</td>\n",
       "      <td>4</td>\n",
       "      <td>NaN</td>\n",
       "      <td>France</td>\n",
       "      <td>FR</td>\n",
       "      <td>FR10</td>\n",
       "      <td>Ile-De-France</td>\n",
       "      <td>Bakery</td>\n",
       "      <td>Commercial</td>\n",
       "      <td>2019-06-03</td>\n",
       "      <td>...</td>\n",
       "      <td>0</td>\n",
       "      <td>3.99</td>\n",
       "      <td>0</td>\n",
       "      <td>1</td>\n",
       "      <td>5</td>\n",
       "      <td>0</td>\n",
       "      <td>2</td>\n",
       "      <td>True</td>\n",
       "      <td>75</td>\n",
       "      <td>0</td>\n",
       "    </tr>\n",
       "    <tr>\n",
       "      <th>4</th>\n",
       "      <td>2019-06-06</td>\n",
       "      <td>4</td>\n",
       "      <td>NaN</td>\n",
       "      <td>France</td>\n",
       "      <td>FR</td>\n",
       "      <td>FR10</td>\n",
       "      <td>Ile-De-France</td>\n",
       "      <td>Bakery</td>\n",
       "      <td>Commercial</td>\n",
       "      <td>2019-06-03</td>\n",
       "      <td>...</td>\n",
       "      <td>0</td>\n",
       "      <td>3.99</td>\n",
       "      <td>0</td>\n",
       "      <td>0</td>\n",
       "      <td>0</td>\n",
       "      <td>0</td>\n",
       "      <td>2</td>\n",
       "      <td>True</td>\n",
       "      <td>75</td>\n",
       "      <td>0</td>\n",
       "    </tr>\n",
       "  </tbody>\n",
       "</table>\n",
       "<p>5 rows × 34 columns</p>\n",
       "</div>"
      ],
      "text/plain": [
       "         date  store_id  parent_chain_id store_country country_iso_code  \\\n",
       "0  2019-06-02         4              NaN        France               FR   \n",
       "1  2019-06-03         4              NaN        France               FR   \n",
       "2  2019-06-04         4              NaN        France               FR   \n",
       "3  2019-06-05         4              NaN        France               FR   \n",
       "4  2019-06-06         4              NaN        France               FR   \n",
       "\n",
       "  region_id   store_region store_segment store_activity_name  \\\n",
       "0      FR10  Ile-De-France        Bakery          Commercial   \n",
       "1      FR10  Ile-De-France        Bakery          Commercial   \n",
       "2      FR10  Ile-De-France        Bakery          Commercial   \n",
       "3      FR10  Ile-De-France        Bakery          Commercial   \n",
       "4      FR10  Ile-De-France        Bakery          Commercial   \n",
       "\n",
       "  items_first_enabled_date  ... store_cancellation item_price  meals_refunded  \\\n",
       "0               2019-06-03  ...                  0       3.99               0   \n",
       "1               2019-06-03  ...                  0       3.99               0   \n",
       "2               2019-06-03  ...                  0       3.99               0   \n",
       "3               2019-06-03  ...                  0       3.99               0   \n",
       "4               2019-06-03  ...                  0       3.99               0   \n",
       "\n",
       "  rating_count  sum_rating_overall item_view no_unique_consumers is_enabled  \\\n",
       "0            0                   0         0                   0      False   \n",
       "1            0                   0         0                   5       True   \n",
       "2            1                   5         0                   4       True   \n",
       "3            1                   5         0                   2       True   \n",
       "4            0                   0         0                   2       True   \n",
       "\n",
       "   Département  target  \n",
       "0           75       0  \n",
       "1           75       0  \n",
       "2           75       0  \n",
       "3           75       0  \n",
       "4           75       0  \n",
       "\n",
       "[5 rows x 34 columns]"
      ]
     },
     "execution_count": 4,
     "metadata": {},
     "output_type": "execute_result"
    }
   ],
   "source": [
    "data.head()"
   ]
  },
  {
   "cell_type": "code",
   "execution_count": 104,
   "metadata": {
    "ExecuteTime": {
     "end_time": "2021-04-09T14:19:06.423180Z",
     "start_time": "2021-04-09T14:19:06.403055Z"
    }
   },
   "outputs": [
    {
     "data": {
      "text/plain": [
       "Index(['date', 'store_id', 'parent_chain_id', 'store_country',\n",
       "       'country_iso_code', 'region_id', 'store_region', 'store_segment',\n",
       "       'store_activity_name', 'items_first_enabled_date',\n",
       "       'store_first_saving_date', 'store_last_saving_date', 'item_id',\n",
       "       'item_name', 'before_price', 'currency_code', 'pickup_start',\n",
       "       'pickup_end', 'total_supply', 'declared_supply', 'manual_added_supply',\n",
       "       'manual_removed_supply', 'meals_saved', 'consumer_cancellation',\n",
       "       'store_cancellation', 'item_price', 'meals_refunded', 'rating_count',\n",
       "       'sum_rating_overall', 'item_view', 'no_unique_consumers', 'is_enabled',\n",
       "       'Département', 'target'],\n",
       "      dtype='object')"
      ]
     },
     "execution_count": 104,
     "metadata": {},
     "output_type": "execute_result"
    }
   ],
   "source": [
    "data.columns"
   ]
  },
  {
   "cell_type": "code",
   "execution_count": 55,
   "metadata": {
    "ExecuteTime": {
     "end_time": "2021-04-09T13:53:12.780517Z",
     "start_time": "2021-04-09T13:53:11.585246Z"
    }
   },
   "outputs": [
    {
     "data": {
      "text/plain": [
       "item_name                 \n",
       "Panier classique 3,99 €       122005\n",
       "Midi                           48186\n",
       "Soir                           46722\n",
       "Panier à 3,99 €                40311\n",
       "Petit-déjeuner                 25162\n",
       "                               ...  \n",
       "frites fraiches sous vide          2\n",
       "Panier Chocolats de Paques         1\n",
       "Plantes Extérieur - Soir           1\n",
       "panier midi                        1\n",
       "Plantes Intérieur - Soir           1\n",
       "Length: 1027, dtype: int64"
      ]
     },
     "execution_count": 55,
     "metadata": {},
     "output_type": "execute_result"
    }
   ],
   "source": [
    "data.iloc[:, [13]].value_counts()"
   ]
  },
  {
   "cell_type": "code",
   "execution_count": 56,
   "metadata": {
    "ExecuteTime": {
     "end_time": "2021-04-09T13:53:13.890351Z",
     "start_time": "2021-04-09T13:53:12.788529Z"
    }
   },
   "outputs": [
    {
     "data": {
      "text/plain": [
       "Département\n",
       "75             756448\n",
       "59             286574\n",
       "69             268787\n",
       "13             195885\n",
       "33             188756\n",
       "                ...  \n",
       "35                343\n",
       "79                196\n",
       "17                147\n",
       "97                147\n",
       "na                147\n",
       "Length: 110, dtype: int64"
      ]
     },
     "execution_count": 56,
     "metadata": {},
     "output_type": "execute_result"
    }
   ],
   "source": [
    "data.iloc[:, [32]].value_counts()"
   ]
  },
  {
   "cell_type": "code",
   "execution_count": 57,
   "metadata": {
    "ExecuteTime": {
     "end_time": "2021-04-09T13:53:23.172392Z",
     "start_time": "2021-04-09T13:53:13.897329Z"
    }
   },
   "outputs": [
    {
     "data": {
      "text/plain": [
       "date                         0.000000\n",
       "store_id                     0.000000\n",
       "parent_chain_id             37.688262\n",
       "store_country                0.000000\n",
       "country_iso_code             0.000000\n",
       "region_id                    0.051756\n",
       "store_region                 0.051756\n",
       "store_segment                0.934408\n",
       "store_activity_name          0.000000\n",
       "items_first_enabled_date     1.415918\n",
       "store_first_saving_date      4.738635\n",
       "store_last_saving_date       4.738635\n",
       "item_id                      0.000000\n",
       "item_name                   84.361789\n",
       "before_price                 5.062078\n",
       "currency_code                0.000000\n",
       "pickup_start                33.246484\n",
       "pickup_end                  33.246484\n",
       "total_supply                 0.000000\n",
       "declared_supply              0.000000\n",
       "manual_added_supply          0.000000\n",
       "manual_removed_supply        0.000000\n",
       "meals_saved                  0.000000\n",
       "consumer_cancellation        0.000000\n",
       "store_cancellation           0.000000\n",
       "item_price                   0.000000\n",
       "meals_refunded               0.000000\n",
       "rating_count                 0.000000\n",
       "sum_rating_overall           0.000000\n",
       "item_view                    0.000000\n",
       "no_unique_consumers          0.000000\n",
       "is_enabled                   0.000000\n",
       "Département                  0.000000\n",
       "target                       0.000000\n",
       "dtype: float64"
      ]
     },
     "execution_count": 57,
     "metadata": {},
     "output_type": "execute_result"
    }
   ],
   "source": [
    "data.isnull().sum()*100/len(data) #features with missing values ? "
   ]
  },
  {
   "cell_type": "code",
   "execution_count": 59,
   "metadata": {
    "ExecuteTime": {
     "end_time": "2021-04-09T13:54:38.710943Z",
     "start_time": "2021-04-09T13:54:38.026408Z"
    }
   },
   "outputs": [
    {
     "data": {
      "text/html": [
       "<div>\n",
       "<style scoped>\n",
       "    .dataframe tbody tr th:only-of-type {\n",
       "        vertical-align: middle;\n",
       "    }\n",
       "\n",
       "    .dataframe tbody tr th {\n",
       "        vertical-align: top;\n",
       "    }\n",
       "\n",
       "    .dataframe thead th {\n",
       "        text-align: right;\n",
       "    }\n",
       "</style>\n",
       "<table border=\"1\" class=\"dataframe\">\n",
       "  <thead>\n",
       "    <tr style=\"text-align: right;\">\n",
       "      <th></th>\n",
       "      <th>sum_rating_overall</th>\n",
       "      <th>rating_count</th>\n",
       "    </tr>\n",
       "  </thead>\n",
       "  <tbody>\n",
       "    <tr>\n",
       "      <th>count</th>\n",
       "      <td>5.431248e+06</td>\n",
       "      <td>5.431248e+06</td>\n",
       "    </tr>\n",
       "    <tr>\n",
       "      <th>mean</th>\n",
       "      <td>2.638443e+00</td>\n",
       "      <td>5.917343e-01</td>\n",
       "    </tr>\n",
       "    <tr>\n",
       "      <th>std</th>\n",
       "      <td>5.782910e+00</td>\n",
       "      <td>1.276928e+00</td>\n",
       "    </tr>\n",
       "    <tr>\n",
       "      <th>min</th>\n",
       "      <td>0.000000e+00</td>\n",
       "      <td>0.000000e+00</td>\n",
       "    </tr>\n",
       "    <tr>\n",
       "      <th>25%</th>\n",
       "      <td>0.000000e+00</td>\n",
       "      <td>0.000000e+00</td>\n",
       "    </tr>\n",
       "    <tr>\n",
       "      <th>50%</th>\n",
       "      <td>0.000000e+00</td>\n",
       "      <td>0.000000e+00</td>\n",
       "    </tr>\n",
       "    <tr>\n",
       "      <th>75%</th>\n",
       "      <td>5.000000e+00</td>\n",
       "      <td>1.000000e+00</td>\n",
       "    </tr>\n",
       "    <tr>\n",
       "      <th>max</th>\n",
       "      <td>8.600000e+02</td>\n",
       "      <td>1.990000e+02</td>\n",
       "    </tr>\n",
       "  </tbody>\n",
       "</table>\n",
       "</div>"
      ],
      "text/plain": [
       "       sum_rating_overall  rating_count\n",
       "count        5.431248e+06  5.431248e+06\n",
       "mean         2.638443e+00  5.917343e-01\n",
       "std          5.782910e+00  1.276928e+00\n",
       "min          0.000000e+00  0.000000e+00\n",
       "25%          0.000000e+00  0.000000e+00\n",
       "50%          0.000000e+00  0.000000e+00\n",
       "75%          5.000000e+00  1.000000e+00\n",
       "max          8.600000e+02  1.990000e+02"
      ]
     },
     "execution_count": 59,
     "metadata": {},
     "output_type": "execute_result"
    }
   ],
   "source": [
    "data[['sum_rating_overall', 'rating_count']].describe()"
   ]
  },
  {
   "cell_type": "code",
   "execution_count": 61,
   "metadata": {
    "ExecuteTime": {
     "end_time": "2021-04-09T13:54:43.964473Z",
     "start_time": "2021-04-09T13:54:43.662557Z"
    }
   },
   "outputs": [
    {
     "data": {
      "text/plain": [
       "count    5.156314e+06\n",
       "mean     1.315829e+01\n",
       "std      5.692013e+00\n",
       "min      3.990000e+00\n",
       "25%      1.200000e+01\n",
       "50%      1.200000e+01\n",
       "75%      1.200000e+01\n",
       "max      1.650000e+02\n",
       "Name: before_price, dtype: float64"
      ]
     },
     "execution_count": 61,
     "metadata": {},
     "output_type": "execute_result"
    }
   ],
   "source": [
    "data['before_price'].describe()"
   ]
  },
  {
   "cell_type": "code",
   "execution_count": 63,
   "metadata": {
    "ExecuteTime": {
     "end_time": "2021-04-09T13:54:50.137647Z",
     "start_time": "2021-04-09T13:54:49.901232Z"
    }
   },
   "outputs": [
    {
     "data": {
      "text/html": [
       "<div>\n",
       "<style scoped>\n",
       "    .dataframe tbody tr th:only-of-type {\n",
       "        vertical-align: middle;\n",
       "    }\n",
       "\n",
       "    .dataframe tbody tr th {\n",
       "        vertical-align: top;\n",
       "    }\n",
       "\n",
       "    .dataframe thead th {\n",
       "        text-align: right;\n",
       "    }\n",
       "</style>\n",
       "<table border=\"1\" class=\"dataframe\">\n",
       "  <thead>\n",
       "    <tr style=\"text-align: right;\">\n",
       "      <th></th>\n",
       "      <th>date</th>\n",
       "      <th>store_id</th>\n",
       "      <th>before_price</th>\n",
       "    </tr>\n",
       "  </thead>\n",
       "  <tbody>\n",
       "    <tr>\n",
       "      <th>0</th>\n",
       "      <td>2019-06-02</td>\n",
       "      <td>4</td>\n",
       "      <td>12.0</td>\n",
       "    </tr>\n",
       "    <tr>\n",
       "      <th>1</th>\n",
       "      <td>2019-06-03</td>\n",
       "      <td>4</td>\n",
       "      <td>12.0</td>\n",
       "    </tr>\n",
       "    <tr>\n",
       "      <th>2</th>\n",
       "      <td>2019-06-04</td>\n",
       "      <td>4</td>\n",
       "      <td>12.0</td>\n",
       "    </tr>\n",
       "    <tr>\n",
       "      <th>3</th>\n",
       "      <td>2019-06-05</td>\n",
       "      <td>4</td>\n",
       "      <td>12.0</td>\n",
       "    </tr>\n",
       "    <tr>\n",
       "      <th>4</th>\n",
       "      <td>2019-06-06</td>\n",
       "      <td>4</td>\n",
       "      <td>12.0</td>\n",
       "    </tr>\n",
       "    <tr>\n",
       "      <th>...</th>\n",
       "      <td>...</td>\n",
       "      <td>...</td>\n",
       "      <td>...</td>\n",
       "    </tr>\n",
       "    <tr>\n",
       "      <th>5431243</th>\n",
       "      <td>2020-04-28</td>\n",
       "      <td>75409</td>\n",
       "      <td>12.0</td>\n",
       "    </tr>\n",
       "    <tr>\n",
       "      <th>5431244</th>\n",
       "      <td>2020-04-29</td>\n",
       "      <td>75409</td>\n",
       "      <td>12.0</td>\n",
       "    </tr>\n",
       "    <tr>\n",
       "      <th>5431245</th>\n",
       "      <td>2020-04-30</td>\n",
       "      <td>75409</td>\n",
       "      <td>12.0</td>\n",
       "    </tr>\n",
       "    <tr>\n",
       "      <th>5431246</th>\n",
       "      <td>2020-04-29</td>\n",
       "      <td>75480</td>\n",
       "      <td>12.0</td>\n",
       "    </tr>\n",
       "    <tr>\n",
       "      <th>5431247</th>\n",
       "      <td>2020-04-30</td>\n",
       "      <td>75480</td>\n",
       "      <td>12.0</td>\n",
       "    </tr>\n",
       "  </tbody>\n",
       "</table>\n",
       "<p>5431248 rows × 3 columns</p>\n",
       "</div>"
      ],
      "text/plain": [
       "               date  store_id  before_price\n",
       "0        2019-06-02         4          12.0\n",
       "1        2019-06-03         4          12.0\n",
       "2        2019-06-04         4          12.0\n",
       "3        2019-06-05         4          12.0\n",
       "4        2019-06-06         4          12.0\n",
       "...             ...       ...           ...\n",
       "5431243  2020-04-28     75409          12.0\n",
       "5431244  2020-04-29     75409          12.0\n",
       "5431245  2020-04-30     75409          12.0\n",
       "5431246  2020-04-29     75480          12.0\n",
       "5431247  2020-04-30     75480          12.0\n",
       "\n",
       "[5431248 rows x 3 columns]"
      ]
     },
     "execution_count": 63,
     "metadata": {},
     "output_type": "execute_result"
    }
   ],
   "source": [
    "data[['date', 'store_id', 'before_price']]"
   ]
  },
  {
   "cell_type": "code",
   "execution_count": 8,
   "metadata": {
    "ExecuteTime": {
     "end_time": "2021-04-12T08:29:29.660831Z",
     "start_time": "2021-04-12T08:29:29.426456Z"
    }
   },
   "outputs": [
    {
     "data": {
      "text/html": [
       "<div>\n",
       "<style scoped>\n",
       "    .dataframe tbody tr th:only-of-type {\n",
       "        vertical-align: middle;\n",
       "    }\n",
       "\n",
       "    .dataframe tbody tr th {\n",
       "        vertical-align: top;\n",
       "    }\n",
       "\n",
       "    .dataframe thead th {\n",
       "        text-align: right;\n",
       "    }\n",
       "</style>\n",
       "<table border=\"1\" class=\"dataframe\">\n",
       "  <thead>\n",
       "    <tr style=\"text-align: right;\">\n",
       "      <th></th>\n",
       "      <th>date</th>\n",
       "      <th>store_id</th>\n",
       "      <th>before_price</th>\n",
       "      <th>target</th>\n",
       "    </tr>\n",
       "  </thead>\n",
       "  <tbody>\n",
       "    <tr>\n",
       "      <th>2358</th>\n",
       "      <td>2019-07-14</td>\n",
       "      <td>203</td>\n",
       "      <td>NaN</td>\n",
       "      <td>1</td>\n",
       "    </tr>\n",
       "    <tr>\n",
       "      <th>2359</th>\n",
       "      <td>2019-07-15</td>\n",
       "      <td>203</td>\n",
       "      <td>NaN</td>\n",
       "      <td>1</td>\n",
       "    </tr>\n",
       "    <tr>\n",
       "      <th>2360</th>\n",
       "      <td>2019-07-16</td>\n",
       "      <td>203</td>\n",
       "      <td>NaN</td>\n",
       "      <td>1</td>\n",
       "    </tr>\n",
       "    <tr>\n",
       "      <th>2361</th>\n",
       "      <td>2019-07-17</td>\n",
       "      <td>203</td>\n",
       "      <td>NaN</td>\n",
       "      <td>1</td>\n",
       "    </tr>\n",
       "    <tr>\n",
       "      <th>2362</th>\n",
       "      <td>2019-07-18</td>\n",
       "      <td>203</td>\n",
       "      <td>NaN</td>\n",
       "      <td>1</td>\n",
       "    </tr>\n",
       "    <tr>\n",
       "      <th>...</th>\n",
       "      <td>...</td>\n",
       "      <td>...</td>\n",
       "      <td>...</td>\n",
       "      <td>...</td>\n",
       "    </tr>\n",
       "    <tr>\n",
       "      <th>4003844</th>\n",
       "      <td>2020-03-27</td>\n",
       "      <td>72192</td>\n",
       "      <td>NaN</td>\n",
       "      <td>1</td>\n",
       "    </tr>\n",
       "    <tr>\n",
       "      <th>4003845</th>\n",
       "      <td>2020-03-28</td>\n",
       "      <td>72192</td>\n",
       "      <td>NaN</td>\n",
       "      <td>1</td>\n",
       "    </tr>\n",
       "    <tr>\n",
       "      <th>4003846</th>\n",
       "      <td>2020-03-29</td>\n",
       "      <td>72192</td>\n",
       "      <td>NaN</td>\n",
       "      <td>1</td>\n",
       "    </tr>\n",
       "    <tr>\n",
       "      <th>4003847</th>\n",
       "      <td>2020-03-30</td>\n",
       "      <td>72192</td>\n",
       "      <td>NaN</td>\n",
       "      <td>1</td>\n",
       "    </tr>\n",
       "    <tr>\n",
       "      <th>4003848</th>\n",
       "      <td>2020-03-31</td>\n",
       "      <td>72192</td>\n",
       "      <td>NaN</td>\n",
       "      <td>1</td>\n",
       "    </tr>\n",
       "  </tbody>\n",
       "</table>\n",
       "<p>211627 rows × 4 columns</p>\n",
       "</div>"
      ],
      "text/plain": [
       "               date  store_id  before_price  target\n",
       "2358     2019-07-14       203           NaN       1\n",
       "2359     2019-07-15       203           NaN       1\n",
       "2360     2019-07-16       203           NaN       1\n",
       "2361     2019-07-17       203           NaN       1\n",
       "2362     2019-07-18       203           NaN       1\n",
       "...             ...       ...           ...     ...\n",
       "4003844  2020-03-27     72192           NaN       1\n",
       "4003845  2020-03-28     72192           NaN       1\n",
       "4003846  2020-03-29     72192           NaN       1\n",
       "4003847  2020-03-30     72192           NaN       1\n",
       "4003848  2020-03-31     72192           NaN       1\n",
       "\n",
       "[211627 rows x 4 columns]"
      ]
     },
     "execution_count": 8,
     "metadata": {},
     "output_type": "execute_result"
    }
   ],
   "source": [
    "data[['date', 'store_id', 'before_price', 'target']\n",
    "     ].loc[data['before_price'].isnull() == True]"
   ]
  },
  {
   "cell_type": "code",
   "execution_count": 7,
   "metadata": {
    "ExecuteTime": {
     "end_time": "2021-04-12T08:29:22.297103Z",
     "start_time": "2021-04-12T08:29:22.241375Z"
    }
   },
   "outputs": [
    {
     "data": {
      "text/plain": [
       "0    0.034620\n",
       "1    0.018234\n",
       "Name: target, dtype: float64"
      ]
     },
     "execution_count": 7,
     "metadata": {},
     "output_type": "execute_result"
    }
   ],
   "source": [
    "data['target'].loc[(data['before_price'].isnull() == True)\n",
    "                   ].value_counts()/len(data['before_price'].isnull() == True)"
   ]
  },
  {
   "cell_type": "code",
   "execution_count": 82,
   "metadata": {
    "ExecuteTime": {
     "end_time": "2021-04-09T14:00:06.645751Z",
     "start_time": "2021-04-09T14:00:06.477347Z"
    }
   },
   "outputs": [
    {
     "data": {
      "text/plain": [
       "0.0    4477063\n",
       "1.0     954185\n",
       "Name: target, dtype: int64"
      ]
     },
     "execution_count": 82,
     "metadata": {},
     "output_type": "execute_result"
    }
   ],
   "source": [
    "data['target'].value_counts()  # imbalanced ?"
   ]
  },
  {
   "cell_type": "code",
   "execution_count": 6,
   "metadata": {
    "ExecuteTime": {
     "end_time": "2021-04-12T08:29:08.799933Z",
     "start_time": "2021-04-12T08:29:08.576791Z"
    }
   },
   "outputs": [
    {
     "data": {
      "text/plain": [
       "0    0.655011\n",
       "1    0.344989\n",
       "Name: target, dtype: float64"
      ]
     },
     "execution_count": 6,
     "metadata": {},
     "output_type": "execute_result"
    }
   ],
   "source": [
    "data.loc[data['before_price'].isnull() == True, 'target'].value_counts() / len(data.loc[data['before_price'].isnull() == True])"
   ]
  },
  {
   "cell_type": "code",
   "execution_count": 101,
   "metadata": {
    "ExecuteTime": {
     "end_time": "2021-04-09T14:09:29.650621Z",
     "start_time": "2021-04-09T14:09:29.494234Z"
    }
   },
   "outputs": [
    {
     "data": {
      "text/plain": [
       "12.0     0.592530\n",
       "10.0     0.121412\n",
       "15.0     0.097634\n",
       "30.0     0.021660\n",
       "18.0     0.019948\n",
       "           ...   \n",
       "59.9     0.000002\n",
       "96.0     0.000002\n",
       "54.0     0.000002\n",
       "49.9     0.000002\n",
       "165.0    0.000002\n",
       "Name: before_price, Length: 134, dtype: float64"
      ]
     },
     "execution_count": 101,
     "metadata": {},
     "output_type": "execute_result"
    }
   ],
   "source": [
    "# looks like we're gonna impute it with  12\n",
    "data['before_price'].value_counts()/len(data)"
   ]
  },
  {
   "cell_type": "code",
   "execution_count": 102,
   "metadata": {
    "ExecuteTime": {
     "end_time": "2021-04-09T14:09:52.268058Z",
     "start_time": "2021-04-09T14:09:52.010078Z"
    }
   },
   "outputs": [
    {
     "data": {
      "text/plain": [
       "count    5.156314e+06\n",
       "mean     1.315829e+01\n",
       "std      5.692013e+00\n",
       "min      3.990000e+00\n",
       "25%      1.200000e+01\n",
       "50%      1.200000e+01\n",
       "75%      1.200000e+01\n",
       "max      1.650000e+02\n",
       "Name: before_price, dtype: float64"
      ]
     },
     "execution_count": 102,
     "metadata": {},
     "output_type": "execute_result"
    }
   ],
   "source": [
    "# 12 is also the median (might be the default value used by stores)\n",
    "data['before_price'].describe()"
   ]
  },
  {
   "cell_type": "code",
   "execution_count": null,
   "metadata": {
    "ExecuteTime": {
     "start_time": "2021-04-11T17:03:44.817Z"
    }
   },
   "outputs": [],
   "source": [
    "data.loc[data['meals_saved'] > data['total_supply'],\n",
    "         ['store_id']].value_counts()\n",
    "# hmm ok some stores have a strange use of the app"
   ]
  },
  {
   "cell_type": "markdown",
   "metadata": {},
   "source": [
    "# Feature engineering"
   ]
  },
  {
   "cell_type": "markdown",
   "metadata": {
    "ExecuteTime": {
     "end_time": "2021-04-09T14:39:22.528043Z",
     "start_time": "2021-04-09T14:39:22.515441Z"
    }
   },
   "source": [
    "## Imputation"
   ]
  },
  {
   "cell_type": "code",
   "execution_count": 119,
   "metadata": {
    "ExecuteTime": {
     "end_time": "2021-04-09T14:44:14.663294Z",
     "start_time": "2021-04-09T14:44:14.625577Z"
    }
   },
   "outputs": [],
   "source": [
    "from sklearn.impute import SimpleImputer\n",
    "\n",
    "# Imputation\n",
    "my_imputer = SimpleImputer(strategy='median')\n",
    "\n",
    "impute_median = np.array(data['before_price']).reshape(-1, 1)\n",
    "\n",
    "before_price_was_imputed = data['before_price'].isnull()\n",
    "before_price_imputed = pd.DataFrame(my_imputer.fit_transform(impute_median))"
   ]
  },
  {
   "cell_type": "markdown",
   "metadata": {},
   "source": [
    "## Date indicator "
   ]
  },
  {
   "cell_type": "code",
   "execution_count": null,
   "metadata": {
    "ExecuteTime": {
     "start_time": "2021-04-11T17:08:20.611Z"
    }
   },
   "outputs": [],
   "source": [
    "date = pd.DataFrame()\n",
    "\n",
    "date['date'] = pd.to_datetime(data['date'])\n",
    "\n",
    "date['dayOfWeek'] = date['date'].dt.day_name()\n",
    "\n",
    "date_day_string = date['dayOfWeek']\n",
    "\n",
    "date[['Monday', 'Tuesday', 'Wednesday', 'Thursday', 'Friday', 'Saturday', 'Sunday']] = pd.get_dummies(\n",
    "    date_day_string)[['Monday', 'Tuesday', 'Wednesday', 'Thursday', 'Friday', 'Saturday', 'Sunday']]\n",
    "\n",
    "date['weekend'] = date_day_string.isin(['Saturday', 'Sunday']).replace({\n",
    "    True: 1, False: 0})  # indicate weekend"
   ]
  },
  {
   "cell_type": "code",
   "execution_count": 163,
   "metadata": {
    "ExecuteTime": {
     "end_time": "2021-04-09T15:18:10.103061Z",
     "start_time": "2021-04-09T15:18:10.065164Z"
    }
   },
   "outputs": [
    {
     "data": {
      "text/html": [
       "<div>\n",
       "<style scoped>\n",
       "    .dataframe tbody tr th:only-of-type {\n",
       "        vertical-align: middle;\n",
       "    }\n",
       "\n",
       "    .dataframe tbody tr th {\n",
       "        vertical-align: top;\n",
       "    }\n",
       "\n",
       "    .dataframe thead th {\n",
       "        text-align: right;\n",
       "    }\n",
       "</style>\n",
       "<table border=\"1\" class=\"dataframe\">\n",
       "  <thead>\n",
       "    <tr style=\"text-align: right;\">\n",
       "      <th></th>\n",
       "      <th>date</th>\n",
       "      <th>dayOfWeek</th>\n",
       "      <th>Monday</th>\n",
       "      <th>Tuesday</th>\n",
       "      <th>Wednesday</th>\n",
       "      <th>Thursday</th>\n",
       "      <th>Friday</th>\n",
       "      <th>Saturday</th>\n",
       "      <th>Sunday</th>\n",
       "      <th>weekend</th>\n",
       "    </tr>\n",
       "  </thead>\n",
       "  <tbody>\n",
       "    <tr>\n",
       "      <th>0</th>\n",
       "      <td>2019-06-02</td>\n",
       "      <td>Sunday</td>\n",
       "      <td>0</td>\n",
       "      <td>0</td>\n",
       "      <td>0</td>\n",
       "      <td>0</td>\n",
       "      <td>0</td>\n",
       "      <td>0</td>\n",
       "      <td>1</td>\n",
       "      <td>1</td>\n",
       "    </tr>\n",
       "    <tr>\n",
       "      <th>1</th>\n",
       "      <td>2019-06-03</td>\n",
       "      <td>Monday</td>\n",
       "      <td>1</td>\n",
       "      <td>0</td>\n",
       "      <td>0</td>\n",
       "      <td>0</td>\n",
       "      <td>0</td>\n",
       "      <td>0</td>\n",
       "      <td>0</td>\n",
       "      <td>0</td>\n",
       "    </tr>\n",
       "    <tr>\n",
       "      <th>2</th>\n",
       "      <td>2019-06-04</td>\n",
       "      <td>Tuesday</td>\n",
       "      <td>0</td>\n",
       "      <td>1</td>\n",
       "      <td>0</td>\n",
       "      <td>0</td>\n",
       "      <td>0</td>\n",
       "      <td>0</td>\n",
       "      <td>0</td>\n",
       "      <td>0</td>\n",
       "    </tr>\n",
       "    <tr>\n",
       "      <th>3</th>\n",
       "      <td>2019-06-05</td>\n",
       "      <td>Wednesday</td>\n",
       "      <td>0</td>\n",
       "      <td>0</td>\n",
       "      <td>1</td>\n",
       "      <td>0</td>\n",
       "      <td>0</td>\n",
       "      <td>0</td>\n",
       "      <td>0</td>\n",
       "      <td>0</td>\n",
       "    </tr>\n",
       "    <tr>\n",
       "      <th>4</th>\n",
       "      <td>2019-06-06</td>\n",
       "      <td>Thursday</td>\n",
       "      <td>0</td>\n",
       "      <td>0</td>\n",
       "      <td>0</td>\n",
       "      <td>1</td>\n",
       "      <td>0</td>\n",
       "      <td>0</td>\n",
       "      <td>0</td>\n",
       "      <td>0</td>\n",
       "    </tr>\n",
       "    <tr>\n",
       "      <th>...</th>\n",
       "      <td>...</td>\n",
       "      <td>...</td>\n",
       "      <td>...</td>\n",
       "      <td>...</td>\n",
       "      <td>...</td>\n",
       "      <td>...</td>\n",
       "      <td>...</td>\n",
       "      <td>...</td>\n",
       "      <td>...</td>\n",
       "      <td>...</td>\n",
       "    </tr>\n",
       "    <tr>\n",
       "      <th>5431243</th>\n",
       "      <td>2020-04-28</td>\n",
       "      <td>Tuesday</td>\n",
       "      <td>0</td>\n",
       "      <td>1</td>\n",
       "      <td>0</td>\n",
       "      <td>0</td>\n",
       "      <td>0</td>\n",
       "      <td>0</td>\n",
       "      <td>0</td>\n",
       "      <td>0</td>\n",
       "    </tr>\n",
       "    <tr>\n",
       "      <th>5431244</th>\n",
       "      <td>2020-04-29</td>\n",
       "      <td>Wednesday</td>\n",
       "      <td>0</td>\n",
       "      <td>0</td>\n",
       "      <td>1</td>\n",
       "      <td>0</td>\n",
       "      <td>0</td>\n",
       "      <td>0</td>\n",
       "      <td>0</td>\n",
       "      <td>0</td>\n",
       "    </tr>\n",
       "    <tr>\n",
       "      <th>5431245</th>\n",
       "      <td>2020-04-30</td>\n",
       "      <td>Thursday</td>\n",
       "      <td>0</td>\n",
       "      <td>0</td>\n",
       "      <td>0</td>\n",
       "      <td>1</td>\n",
       "      <td>0</td>\n",
       "      <td>0</td>\n",
       "      <td>0</td>\n",
       "      <td>0</td>\n",
       "    </tr>\n",
       "    <tr>\n",
       "      <th>5431246</th>\n",
       "      <td>2020-04-29</td>\n",
       "      <td>Wednesday</td>\n",
       "      <td>0</td>\n",
       "      <td>0</td>\n",
       "      <td>1</td>\n",
       "      <td>0</td>\n",
       "      <td>0</td>\n",
       "      <td>0</td>\n",
       "      <td>0</td>\n",
       "      <td>0</td>\n",
       "    </tr>\n",
       "    <tr>\n",
       "      <th>5431247</th>\n",
       "      <td>2020-04-30</td>\n",
       "      <td>Thursday</td>\n",
       "      <td>0</td>\n",
       "      <td>0</td>\n",
       "      <td>0</td>\n",
       "      <td>1</td>\n",
       "      <td>0</td>\n",
       "      <td>0</td>\n",
       "      <td>0</td>\n",
       "      <td>0</td>\n",
       "    </tr>\n",
       "  </tbody>\n",
       "</table>\n",
       "<p>5431248 rows × 10 columns</p>\n",
       "</div>"
      ],
      "text/plain": [
       "              date  dayOfWeek  Monday  Tuesday  Wednesday  Thursday  Friday  \\\n",
       "0       2019-06-02     Sunday       0        0          0         0       0   \n",
       "1       2019-06-03     Monday       1        0          0         0       0   \n",
       "2       2019-06-04    Tuesday       0        1          0         0       0   \n",
       "3       2019-06-05  Wednesday       0        0          1         0       0   \n",
       "4       2019-06-06   Thursday       0        0          0         1       0   \n",
       "...            ...        ...     ...      ...        ...       ...     ...   \n",
       "5431243 2020-04-28    Tuesday       0        1          0         0       0   \n",
       "5431244 2020-04-29  Wednesday       0        0          1         0       0   \n",
       "5431245 2020-04-30   Thursday       0        0          0         1       0   \n",
       "5431246 2020-04-29  Wednesday       0        0          1         0       0   \n",
       "5431247 2020-04-30   Thursday       0        0          0         1       0   \n",
       "\n",
       "         Saturday  Sunday  weekend  \n",
       "0               0       1        1  \n",
       "1               0       0        0  \n",
       "2               0       0        0  \n",
       "3               0       0        0  \n",
       "4               0       0        0  \n",
       "...           ...     ...      ...  \n",
       "5431243         0       0        0  \n",
       "5431244         0       0        0  \n",
       "5431245         0       0        0  \n",
       "5431246         0       0        0  \n",
       "5431247         0       0        0  \n",
       "\n",
       "[5431248 rows x 10 columns]"
      ]
     },
     "execution_count": 163,
     "metadata": {},
     "output_type": "execute_result"
    }
   ],
   "source": [
    "date"
   ]
  },
  {
   "cell_type": "code",
   "execution_count": 156,
   "metadata": {
    "ExecuteTime": {
     "end_time": "2021-04-09T15:12:54.902954Z",
     "start_time": "2021-04-09T15:12:54.809608Z"
    }
   },
   "outputs": [
    {
     "data": {
      "text/plain": [
       "0             Sunday\n",
       "1             Monday\n",
       "2            Tuesday\n",
       "3          Wednesday\n",
       "4           Thursday\n",
       "             ...    \n",
       "5431243      Tuesday\n",
       "5431244    Wednesday\n",
       "5431245     Thursday\n",
       "5431246    Wednesday\n",
       "5431247     Thursday\n",
       "Name: dayOfWeek, Length: 5431248, dtype: object"
      ]
     },
     "execution_count": 156,
     "metadata": {},
     "output_type": "execute_result"
    }
   ],
   "source": [
    "date_day_string"
   ]
  },
  {
   "cell_type": "code",
   "execution_count": 166,
   "metadata": {
    "ExecuteTime": {
     "end_time": "2021-04-09T16:01:58.724069Z",
     "start_time": "2021-04-09T16:01:58.714770Z"
    }
   },
   "outputs": [
    {
     "data": {
      "text/plain": [
       "Index(['date', 'store_id', 'parent_chain_id', 'store_country',\n",
       "       'country_iso_code', 'region_id', 'store_region', 'store_segment',\n",
       "       'store_activity_name', 'items_first_enabled_date',\n",
       "       'store_first_saving_date', 'store_last_saving_date', 'item_id',\n",
       "       'item_name', 'before_price', 'currency_code', 'pickup_start',\n",
       "       'pickup_end', 'total_supply', 'declared_supply', 'manual_added_supply',\n",
       "       'manual_removed_supply', 'meals_saved', 'consumer_cancellation',\n",
       "       'store_cancellation', 'item_price', 'meals_refunded', 'rating_count',\n",
       "       'sum_rating_overall', 'item_view', 'no_unique_consumers', 'is_enabled',\n",
       "       'Département', 'target'],\n",
       "      dtype='object')"
      ]
     },
     "execution_count": 166,
     "metadata": {},
     "output_type": "execute_result"
    }
   ],
   "source": [
    "data.columns"
   ]
  },
  {
   "cell_type": "code",
   "execution_count": 180,
   "metadata": {
    "ExecuteTime": {
     "end_time": "2021-04-09T16:10:01.344956Z",
     "start_time": "2021-04-09T16:09:35.936928Z"
    }
   },
   "outputs": [
    {
     "data": {
      "text/html": [
       "<div>\n",
       "<style scoped>\n",
       "    .dataframe tbody tr th:only-of-type {\n",
       "        vertical-align: middle;\n",
       "    }\n",
       "\n",
       "    .dataframe tbody tr th {\n",
       "        vertical-align: top;\n",
       "    }\n",
       "\n",
       "    .dataframe thead th {\n",
       "        text-align: right;\n",
       "    }\n",
       "</style>\n",
       "<table border=\"1\" class=\"dataframe\">\n",
       "  <thead>\n",
       "    <tr style=\"text-align: right;\">\n",
       "      <th></th>\n",
       "      <th></th>\n",
       "      <th>parent_chain_id</th>\n",
       "      <th>store_country</th>\n",
       "      <th>country_iso_code</th>\n",
       "      <th>region_id</th>\n",
       "      <th>store_region</th>\n",
       "      <th>store_segment</th>\n",
       "      <th>store_activity_name</th>\n",
       "      <th>items_first_enabled_date</th>\n",
       "      <th>store_first_saving_date</th>\n",
       "      <th>store_last_saving_date</th>\n",
       "      <th>...</th>\n",
       "      <th>store_cancellation</th>\n",
       "      <th>item_price</th>\n",
       "      <th>meals_refunded</th>\n",
       "      <th>rating_count</th>\n",
       "      <th>sum_rating_overall</th>\n",
       "      <th>item_view</th>\n",
       "      <th>no_unique_consumers</th>\n",
       "      <th>is_enabled</th>\n",
       "      <th>Département</th>\n",
       "      <th>target</th>\n",
       "    </tr>\n",
       "    <tr>\n",
       "      <th>store_id</th>\n",
       "      <th>date</th>\n",
       "      <th></th>\n",
       "      <th></th>\n",
       "      <th></th>\n",
       "      <th></th>\n",
       "      <th></th>\n",
       "      <th></th>\n",
       "      <th></th>\n",
       "      <th></th>\n",
       "      <th></th>\n",
       "      <th></th>\n",
       "      <th></th>\n",
       "      <th></th>\n",
       "      <th></th>\n",
       "      <th></th>\n",
       "      <th></th>\n",
       "      <th></th>\n",
       "      <th></th>\n",
       "      <th></th>\n",
       "      <th></th>\n",
       "      <th></th>\n",
       "      <th></th>\n",
       "    </tr>\n",
       "  </thead>\n",
       "  <tbody>\n",
       "    <tr>\n",
       "      <th rowspan=\"5\" valign=\"top\">4</th>\n",
       "      <th>2019-06-02</th>\n",
       "      <td>0</td>\n",
       "      <td>1</td>\n",
       "      <td>1</td>\n",
       "      <td>1</td>\n",
       "      <td>1</td>\n",
       "      <td>1</td>\n",
       "      <td>1</td>\n",
       "      <td>1</td>\n",
       "      <td>1</td>\n",
       "      <td>1</td>\n",
       "      <td>...</td>\n",
       "      <td>1</td>\n",
       "      <td>1</td>\n",
       "      <td>1</td>\n",
       "      <td>1</td>\n",
       "      <td>1</td>\n",
       "      <td>1</td>\n",
       "      <td>1</td>\n",
       "      <td>1</td>\n",
       "      <td>1</td>\n",
       "      <td>1</td>\n",
       "    </tr>\n",
       "    <tr>\n",
       "      <th>2019-06-03</th>\n",
       "      <td>0</td>\n",
       "      <td>1</td>\n",
       "      <td>1</td>\n",
       "      <td>1</td>\n",
       "      <td>1</td>\n",
       "      <td>1</td>\n",
       "      <td>1</td>\n",
       "      <td>1</td>\n",
       "      <td>1</td>\n",
       "      <td>1</td>\n",
       "      <td>...</td>\n",
       "      <td>1</td>\n",
       "      <td>1</td>\n",
       "      <td>1</td>\n",
       "      <td>1</td>\n",
       "      <td>1</td>\n",
       "      <td>1</td>\n",
       "      <td>1</td>\n",
       "      <td>1</td>\n",
       "      <td>1</td>\n",
       "      <td>1</td>\n",
       "    </tr>\n",
       "    <tr>\n",
       "      <th>2019-06-04</th>\n",
       "      <td>0</td>\n",
       "      <td>1</td>\n",
       "      <td>1</td>\n",
       "      <td>1</td>\n",
       "      <td>1</td>\n",
       "      <td>1</td>\n",
       "      <td>1</td>\n",
       "      <td>1</td>\n",
       "      <td>1</td>\n",
       "      <td>1</td>\n",
       "      <td>...</td>\n",
       "      <td>1</td>\n",
       "      <td>1</td>\n",
       "      <td>1</td>\n",
       "      <td>1</td>\n",
       "      <td>1</td>\n",
       "      <td>1</td>\n",
       "      <td>1</td>\n",
       "      <td>1</td>\n",
       "      <td>1</td>\n",
       "      <td>1</td>\n",
       "    </tr>\n",
       "    <tr>\n",
       "      <th>2019-06-05</th>\n",
       "      <td>0</td>\n",
       "      <td>1</td>\n",
       "      <td>1</td>\n",
       "      <td>1</td>\n",
       "      <td>1</td>\n",
       "      <td>1</td>\n",
       "      <td>1</td>\n",
       "      <td>1</td>\n",
       "      <td>1</td>\n",
       "      <td>1</td>\n",
       "      <td>...</td>\n",
       "      <td>1</td>\n",
       "      <td>1</td>\n",
       "      <td>1</td>\n",
       "      <td>1</td>\n",
       "      <td>1</td>\n",
       "      <td>1</td>\n",
       "      <td>1</td>\n",
       "      <td>1</td>\n",
       "      <td>1</td>\n",
       "      <td>1</td>\n",
       "    </tr>\n",
       "    <tr>\n",
       "      <th>2019-06-06</th>\n",
       "      <td>0</td>\n",
       "      <td>1</td>\n",
       "      <td>1</td>\n",
       "      <td>1</td>\n",
       "      <td>1</td>\n",
       "      <td>1</td>\n",
       "      <td>1</td>\n",
       "      <td>1</td>\n",
       "      <td>1</td>\n",
       "      <td>1</td>\n",
       "      <td>...</td>\n",
       "      <td>1</td>\n",
       "      <td>1</td>\n",
       "      <td>1</td>\n",
       "      <td>1</td>\n",
       "      <td>1</td>\n",
       "      <td>1</td>\n",
       "      <td>1</td>\n",
       "      <td>1</td>\n",
       "      <td>1</td>\n",
       "      <td>1</td>\n",
       "    </tr>\n",
       "    <tr>\n",
       "      <th>...</th>\n",
       "      <th>...</th>\n",
       "      <td>...</td>\n",
       "      <td>...</td>\n",
       "      <td>...</td>\n",
       "      <td>...</td>\n",
       "      <td>...</td>\n",
       "      <td>...</td>\n",
       "      <td>...</td>\n",
       "      <td>...</td>\n",
       "      <td>...</td>\n",
       "      <td>...</td>\n",
       "      <td>...</td>\n",
       "      <td>...</td>\n",
       "      <td>...</td>\n",
       "      <td>...</td>\n",
       "      <td>...</td>\n",
       "      <td>...</td>\n",
       "      <td>...</td>\n",
       "      <td>...</td>\n",
       "      <td>...</td>\n",
       "      <td>...</td>\n",
       "      <td>...</td>\n",
       "    </tr>\n",
       "    <tr>\n",
       "      <th rowspan=\"3\" valign=\"top\">75409</th>\n",
       "      <th>2020-04-28</th>\n",
       "      <td>1</td>\n",
       "      <td>1</td>\n",
       "      <td>1</td>\n",
       "      <td>1</td>\n",
       "      <td>1</td>\n",
       "      <td>1</td>\n",
       "      <td>1</td>\n",
       "      <td>1</td>\n",
       "      <td>1</td>\n",
       "      <td>1</td>\n",
       "      <td>...</td>\n",
       "      <td>1</td>\n",
       "      <td>1</td>\n",
       "      <td>1</td>\n",
       "      <td>1</td>\n",
       "      <td>1</td>\n",
       "      <td>1</td>\n",
       "      <td>1</td>\n",
       "      <td>1</td>\n",
       "      <td>1</td>\n",
       "      <td>1</td>\n",
       "    </tr>\n",
       "    <tr>\n",
       "      <th>2020-04-29</th>\n",
       "      <td>1</td>\n",
       "      <td>1</td>\n",
       "      <td>1</td>\n",
       "      <td>1</td>\n",
       "      <td>1</td>\n",
       "      <td>1</td>\n",
       "      <td>1</td>\n",
       "      <td>1</td>\n",
       "      <td>1</td>\n",
       "      <td>1</td>\n",
       "      <td>...</td>\n",
       "      <td>1</td>\n",
       "      <td>1</td>\n",
       "      <td>1</td>\n",
       "      <td>1</td>\n",
       "      <td>1</td>\n",
       "      <td>1</td>\n",
       "      <td>1</td>\n",
       "      <td>1</td>\n",
       "      <td>1</td>\n",
       "      <td>1</td>\n",
       "    </tr>\n",
       "    <tr>\n",
       "      <th>2020-04-30</th>\n",
       "      <td>1</td>\n",
       "      <td>1</td>\n",
       "      <td>1</td>\n",
       "      <td>1</td>\n",
       "      <td>1</td>\n",
       "      <td>1</td>\n",
       "      <td>1</td>\n",
       "      <td>1</td>\n",
       "      <td>1</td>\n",
       "      <td>1</td>\n",
       "      <td>...</td>\n",
       "      <td>1</td>\n",
       "      <td>1</td>\n",
       "      <td>1</td>\n",
       "      <td>1</td>\n",
       "      <td>1</td>\n",
       "      <td>1</td>\n",
       "      <td>1</td>\n",
       "      <td>1</td>\n",
       "      <td>1</td>\n",
       "      <td>1</td>\n",
       "    </tr>\n",
       "    <tr>\n",
       "      <th rowspan=\"2\" valign=\"top\">75480</th>\n",
       "      <th>2020-04-29</th>\n",
       "      <td>0</td>\n",
       "      <td>1</td>\n",
       "      <td>1</td>\n",
       "      <td>1</td>\n",
       "      <td>1</td>\n",
       "      <td>1</td>\n",
       "      <td>1</td>\n",
       "      <td>1</td>\n",
       "      <td>1</td>\n",
       "      <td>1</td>\n",
       "      <td>...</td>\n",
       "      <td>1</td>\n",
       "      <td>1</td>\n",
       "      <td>1</td>\n",
       "      <td>1</td>\n",
       "      <td>1</td>\n",
       "      <td>1</td>\n",
       "      <td>1</td>\n",
       "      <td>1</td>\n",
       "      <td>1</td>\n",
       "      <td>1</td>\n",
       "    </tr>\n",
       "    <tr>\n",
       "      <th>2020-04-30</th>\n",
       "      <td>0</td>\n",
       "      <td>1</td>\n",
       "      <td>1</td>\n",
       "      <td>1</td>\n",
       "      <td>1</td>\n",
       "      <td>1</td>\n",
       "      <td>1</td>\n",
       "      <td>1</td>\n",
       "      <td>1</td>\n",
       "      <td>1</td>\n",
       "      <td>...</td>\n",
       "      <td>1</td>\n",
       "      <td>1</td>\n",
       "      <td>1</td>\n",
       "      <td>1</td>\n",
       "      <td>1</td>\n",
       "      <td>1</td>\n",
       "      <td>1</td>\n",
       "      <td>1</td>\n",
       "      <td>1</td>\n",
       "      <td>1</td>\n",
       "    </tr>\n",
       "  </tbody>\n",
       "</table>\n",
       "<p>5172500 rows × 32 columns</p>\n",
       "</div>"
      ],
      "text/plain": [
       "                     parent_chain_id  store_country  country_iso_code  \\\n",
       "store_id date                                                           \n",
       "4        2019-06-02                0              1                 1   \n",
       "         2019-06-03                0              1                 1   \n",
       "         2019-06-04                0              1                 1   \n",
       "         2019-06-05                0              1                 1   \n",
       "         2019-06-06                0              1                 1   \n",
       "...                              ...            ...               ...   \n",
       "75409    2020-04-28                1              1                 1   \n",
       "         2020-04-29                1              1                 1   \n",
       "         2020-04-30                1              1                 1   \n",
       "75480    2020-04-29                0              1                 1   \n",
       "         2020-04-30                0              1                 1   \n",
       "\n",
       "                     region_id  store_region  store_segment  \\\n",
       "store_id date                                                 \n",
       "4        2019-06-02          1             1              1   \n",
       "         2019-06-03          1             1              1   \n",
       "         2019-06-04          1             1              1   \n",
       "         2019-06-05          1             1              1   \n",
       "         2019-06-06          1             1              1   \n",
       "...                        ...           ...            ...   \n",
       "75409    2020-04-28          1             1              1   \n",
       "         2020-04-29          1             1              1   \n",
       "         2020-04-30          1             1              1   \n",
       "75480    2020-04-29          1             1              1   \n",
       "         2020-04-30          1             1              1   \n",
       "\n",
       "                     store_activity_name  items_first_enabled_date  \\\n",
       "store_id date                                                        \n",
       "4        2019-06-02                    1                         1   \n",
       "         2019-06-03                    1                         1   \n",
       "         2019-06-04                    1                         1   \n",
       "         2019-06-05                    1                         1   \n",
       "         2019-06-06                    1                         1   \n",
       "...                                  ...                       ...   \n",
       "75409    2020-04-28                    1                         1   \n",
       "         2020-04-29                    1                         1   \n",
       "         2020-04-30                    1                         1   \n",
       "75480    2020-04-29                    1                         1   \n",
       "         2020-04-30                    1                         1   \n",
       "\n",
       "                     store_first_saving_date  store_last_saving_date  ...  \\\n",
       "store_id date                                                         ...   \n",
       "4        2019-06-02                        1                       1  ...   \n",
       "         2019-06-03                        1                       1  ...   \n",
       "         2019-06-04                        1                       1  ...   \n",
       "         2019-06-05                        1                       1  ...   \n",
       "         2019-06-06                        1                       1  ...   \n",
       "...                                      ...                     ...  ...   \n",
       "75409    2020-04-28                        1                       1  ...   \n",
       "         2020-04-29                        1                       1  ...   \n",
       "         2020-04-30                        1                       1  ...   \n",
       "75480    2020-04-29                        1                       1  ...   \n",
       "         2020-04-30                        1                       1  ...   \n",
       "\n",
       "                     store_cancellation  item_price  meals_refunded  \\\n",
       "store_id date                                                         \n",
       "4        2019-06-02                   1           1               1   \n",
       "         2019-06-03                   1           1               1   \n",
       "         2019-06-04                   1           1               1   \n",
       "         2019-06-05                   1           1               1   \n",
       "         2019-06-06                   1           1               1   \n",
       "...                                 ...         ...             ...   \n",
       "75409    2020-04-28                   1           1               1   \n",
       "         2020-04-29                   1           1               1   \n",
       "         2020-04-30                   1           1               1   \n",
       "75480    2020-04-29                   1           1               1   \n",
       "         2020-04-30                   1           1               1   \n",
       "\n",
       "                     rating_count  sum_rating_overall  item_view  \\\n",
       "store_id date                                                      \n",
       "4        2019-06-02             1                   1          1   \n",
       "         2019-06-03             1                   1          1   \n",
       "         2019-06-04             1                   1          1   \n",
       "         2019-06-05             1                   1          1   \n",
       "         2019-06-06             1                   1          1   \n",
       "...                           ...                 ...        ...   \n",
       "75409    2020-04-28             1                   1          1   \n",
       "         2020-04-29             1                   1          1   \n",
       "         2020-04-30             1                   1          1   \n",
       "75480    2020-04-29             1                   1          1   \n",
       "         2020-04-30             1                   1          1   \n",
       "\n",
       "                     no_unique_consumers  is_enabled  Département  target  \n",
       "store_id date                                                              \n",
       "4        2019-06-02                    1           1            1       1  \n",
       "         2019-06-03                    1           1            1       1  \n",
       "         2019-06-04                    1           1            1       1  \n",
       "         2019-06-05                    1           1            1       1  \n",
       "         2019-06-06                    1           1            1       1  \n",
       "...                                  ...         ...          ...     ...  \n",
       "75409    2020-04-28                    1           1            1       1  \n",
       "         2020-04-29                    1           1            1       1  \n",
       "         2020-04-30                    1           1            1       1  \n",
       "75480    2020-04-29                    1           1            1       1  \n",
       "         2020-04-30                    1           1            1       1  \n",
       "\n",
       "[5172500 rows x 32 columns]"
      ]
     },
     "execution_count": 180,
     "metadata": {},
     "output_type": "execute_result"
    }
   ],
   "source": [
    "data.groupby(['store_id', 'date']).count()"
   ]
  },
  {
   "cell_type": "code",
   "execution_count": 200,
   "metadata": {
    "ExecuteTime": {
     "end_time": "2021-04-09T17:27:23.917387Z",
     "start_time": "2021-04-09T17:27:16.979756Z"
    }
   },
   "outputs": [
    {
     "data": {
      "text/plain": [
       "1     91.157741\n",
       "2      3.581037\n",
       "3      0.354081\n",
       "4      0.105906\n",
       "5      0.030177\n",
       "6      0.006242\n",
       "8      0.000313\n",
       "7      0.000313\n",
       "10     0.000092\n",
       "11     0.000018\n",
       "9      0.000018\n",
       "Name: item_id, dtype: float64"
      ]
     },
     "execution_count": 200,
     "metadata": {},
     "output_type": "execute_result"
    }
   ],
   "source": [
    "data.groupby(['date', 'store_id']).count()['item_id'].value_counts()*100/len(data)\n",
    "# ok we have a problem  : stores have many items, we'll use groupby"
   ]
  },
  {
   "cell_type": "code",
   "execution_count": 224,
   "metadata": {
    "ExecuteTime": {
     "end_time": "2021-04-09T17:51:04.933506Z",
     "start_time": "2021-04-09T17:51:04.510550Z"
    }
   },
   "outputs": [
    {
     "data": {
      "text/plain": [
       "Commercial    4136349\n",
       "Unknown       1157206\n",
       "Temporary      137693\n",
       "Name: store_activity_name, dtype: int64"
      ]
     },
     "execution_count": 224,
     "metadata": {},
     "output_type": "execute_result"
    }
   ],
   "source": [
    "data['store_activity_name'].value_counts() #useles, only 3 categories ? might don't discriminate that much "
   ]
  },
  {
   "cell_type": "code",
   "execution_count": 225,
   "metadata": {
    "ExecuteTime": {
     "end_time": "2021-04-09T18:00:48.222819Z",
     "start_time": "2021-04-09T18:00:47.797539Z"
    }
   },
   "outputs": [
    {
     "data": {
      "text/plain": [
       "EUR    5431248\n",
       "Name: currency_code, dtype: int64"
      ]
     },
     "execution_count": 225,
     "metadata": {},
     "output_type": "execute_result"
    }
   ],
   "source": [
    "data['currency_code'].value_counts() # only 1 value, drop it"
   ]
  },
  {
   "cell_type": "code",
   "execution_count": 226,
   "metadata": {
    "ExecuteTime": {
     "end_time": "2021-04-09T18:02:44.684919Z",
     "start_time": "2021-04-09T18:02:44.628390Z"
    }
   },
   "outputs": [
    {
     "data": {
      "text/plain": [
       "0     5370867\n",
       "1       41272\n",
       "2       11945\n",
       "3        3825\n",
       "4        1657\n",
       "5         916\n",
       "6         290\n",
       "7         166\n",
       "8         110\n",
       "10         73\n",
       "9          64\n",
       "12         13\n",
       "11          9\n",
       "13          5\n",
       "14          5\n",
       "17          5\n",
       "20          5\n",
       "15          4\n",
       "16          4\n",
       "18          4\n",
       "22          3\n",
       "33          2\n",
       "19          1\n",
       "24          1\n",
       "31          1\n",
       "35          1\n",
       "Name: meals_refunded, dtype: int64"
      ]
     },
     "execution_count": 226,
     "metadata": {},
     "output_type": "execute_result"
    }
   ],
   "source": [
    "# interesting to explore it with basic descriptive tools\n",
    "data['meals_refunded'].value_counts()"
   ]
  },
  {
   "cell_type": "markdown",
   "metadata": {},
   "source": [
    "# Get final train database"
   ]
  },
  {
   "cell_type": "markdown",
   "metadata": {},
   "source": [
    "## Feature selection"
   ]
  },
  {
   "cell_type": "code",
   "execution_count": 3,
   "metadata": {
    "ExecuteTime": {
     "end_time": "2021-04-10T02:42:57.383959Z",
     "start_time": "2021-04-10T02:42:56.223975Z"
    }
   },
   "outputs": [],
   "source": [
    "# keep features\n",
    "X = data[['date', 'store_id', 'parent_chain_id', 'store_region', 'store_segment',\n",
    "          'store_first_saving_date', 'before_price', 'total_supply', 'declared_supply', 'manual_added_supply',\n",
    "          'manual_removed_supply', 'meals_saved', 'consumer_cancellation',\n",
    "          'store_cancellation', 'item_price', 'meals_refunded', 'rating_count',\n",
    "          'sum_rating_overall', 'item_view', 'no_unique_consumers',\n",
    "          'Département', 'target']]"
   ]
  },
  {
   "cell_type": "code",
   "execution_count": 4,
   "metadata": {
    "ExecuteTime": {
     "end_time": "2021-04-10T02:43:08.037158Z",
     "start_time": "2021-04-10T02:42:57.386949Z"
    }
   },
   "outputs": [
    {
     "name": "stdout",
     "output_type": "stream",
     "text": [
      "1 3801885\n"
     ]
    }
   ],
   "source": [
    "# dropna and junked data\n",
    "X = X.dropna(subset=['store_first_saving_date'])\n",
    "X['parent_chain_id'] = X['parent_chain_id'].fillna(0)\n",
    "X = X[X['meals_saved'] <= X['total_supply']]\n",
    "print('1', len(X))\n",
    "# create diff saved and diff first\n",
    "X['diff_saved'] = ((X['total_supply'] - X['meals_saved']) /\n",
    "                   X['total_supply']).fillna(0)\n",
    "X['diff_first'] = (pd.to_datetime(X['date']) -\n",
    "                   pd.to_datetime(X['store_first_saving_date'])).dt.days\n",
    "X.drop(columns=['store_first_saving_date'], inplace=True)"
   ]
  },
  {
   "cell_type": "code",
   "execution_count": 5,
   "metadata": {
    "ExecuteTime": {
     "end_time": "2021-04-10T02:43:18.822939Z",
     "start_time": "2021-04-10T02:43:08.041069Z"
    }
   },
   "outputs": [
    {
     "name": "stdout",
     "output_type": "stream",
     "text": [
      "23\n",
      "2 3801885\n",
      "22\n",
      "3 3801885\n",
      "3801885\n"
     ]
    }
   ],
   "source": [
    "from sklearn.impute import SimpleImputer\n",
    "\n",
    "# Imputation\n",
    "my_imputer = SimpleImputer(strategy='median')\n",
    "\n",
    "impute_median = np.array(X['before_price']).reshape(-1, 1)\n",
    "\n",
    "before_price_was_imputed = X['before_price'].isnull()\n",
    "before_price_imputed = pd.DataFrame(my_imputer.fit_transform(impute_median))\n",
    "\n",
    "print(len(X.columns))\n",
    "X.drop(columns=['before_price'], axis=1, inplace=True)\n",
    "print('2', len(X))\n",
    "print(len(X.columns))\n",
    "\n",
    "X['before_price'] = np.array(before_price_imputed)\n",
    "print('3', len(X))\n",
    "\n",
    "date = pd.DataFrame()\n",
    "date['date'] = pd.to_datetime(X['date'])\n",
    "date['dayOfWeek'] = date['date'].dt.day_name()\n",
    "date_day_string = date['dayOfWeek']\n",
    "date[['Monday', 'Tuesday', 'Wednesday', 'Thursday', 'Friday', 'Saturday', 'Sunday']] = pd.get_dummies(\n",
    "    date_day_string)[['Monday', 'Tuesday', 'Wednesday', 'Thursday', 'Friday', 'Saturday', 'Sunday']]\n",
    "date['weekend'] = date_day_string.isin(\n",
    "    ['Saturday', 'Sunday']).replace({True: 1, False: 0})\n",
    "\n",
    "X.drop(columns=['date'], inplace=True)\n",
    "print(len(X))"
   ]
  },
  {
   "cell_type": "code",
   "execution_count": 6,
   "metadata": {
    "ExecuteTime": {
     "end_time": "2021-04-10T02:43:27.534852Z",
     "start_time": "2021-04-10T02:43:18.827924Z"
    }
   },
   "outputs": [],
   "source": [
    "# create dummies for region, department\n",
    "region_dummies = pd.get_dummies(X['store_region'])\n",
    "segment_dummies = pd.get_dummies(X['store_segment'])\n",
    "X = pd.concat([date, X, region_dummies, segment_dummies], axis=1)\n",
    "X.drop(columns=['dayOfWeek', 'store_region', 'store_segment'], inplace=True)\n",
    "X['Département'] = X['Département'].astype('int64')"
   ]
  },
  {
   "cell_type": "code",
   "execution_count": 35,
   "metadata": {
    "ExecuteTime": {
     "end_time": "2021-04-10T01:38:36.173824Z",
     "start_time": "2021-04-10T01:38:36.119857Z"
    }
   },
   "outputs": [
    {
     "data": {
      "text/plain": [
       "Index(['date', 'Monday', 'Tuesday', 'Wednesday', 'Thursday', 'Friday',\n",
       "       'Saturday', 'Sunday', 'weekend', 'date', 'store_id', 'parent_chain_id',\n",
       "       'before_price', 'total_supply', 'declared_supply',\n",
       "       'manual_added_supply', 'manual_removed_supply', 'meals_saved',\n",
       "       'consumer_cancellation', 'store_cancellation', 'item_price',\n",
       "       'meals_refunded', 'rating_count', 'sum_rating_overall', 'item_view',\n",
       "       'no_unique_consumers', 'Département', 'target', 'diff_saved',\n",
       "       'diff_first', 'Alsace', 'Aquitaine', 'Auvergne', 'Basse-Normandie',\n",
       "       'Bourgogne', 'Bretagne', 'Centre - Val De Loire', 'Champagne-Ardenne',\n",
       "       'Corse', 'Franche-Comté', 'Haute-Normandie', 'Ile-De-France',\n",
       "       'Languedoc-Roussillon', 'Limousin', 'Lorraine', 'Midi-Pyrénées',\n",
       "       'Nord-Pas De Calais', 'Pays De La Loire', 'Picardie',\n",
       "       'Poitou-Charentes', 'Provence-Alpes-Côte D’Azur', 'Rhône-Alpes',\n",
       "       'Bakery', 'Beverages', 'Buffet', 'Butcher', 'Cafeteria', 'Canteen',\n",
       "       'Caterer', 'Fast Food / Take away restaurant', 'Fish shop', 'Florist',\n",
       "       'Fruits & vegetables store', 'Gas station', 'Hotel', 'Manufacturer',\n",
       "       'Market stall', 'Other', 'Other Specialists', 'Pastry',\n",
       "       'Supermarket Big', 'Supermarket Medium', 'Supermarket Small', 'Sushi',\n",
       "       'Traditional Restaurant'],\n",
       "      dtype='object')"
      ]
     },
     "execution_count": 35,
     "metadata": {},
     "output_type": "execute_result"
    }
   ],
   "source": [
    "X.columns"
   ]
  },
  {
   "cell_type": "markdown",
   "metadata": {},
   "source": [
    "### Only for the first  (old) dataset "
   ]
  },
  {
   "cell_type": "code",
   "execution_count": 9,
   "metadata": {
    "ExecuteTime": {
     "end_time": "2021-04-09T22:06:46.204110Z",
     "start_time": "2021-04-09T22:06:45.353106Z"
    }
   },
   "outputs": [],
   "source": [
    "# this was useful before we were provided with a new database, cleared of double items etc..\n",
    "# don't run it for the new  train dataset\n",
    "\n",
    "X_sum = X[['date', 'store_id', 'total_supply', 'declared_supply',\n",
    "           'manual_added_supply', 'manual_removed_supply', 'meals_saved',\n",
    "           'consumer_cancellation', 'store_cancellation', 'meals_refunded', 'rating_count', 'sum_rating_overall', 'item_view',\n",
    "           'no_unique_consumers']]"
   ]
  },
  {
   "cell_type": "code",
   "execution_count": 10,
   "metadata": {
    "ExecuteTime": {
     "end_time": "2021-04-09T22:06:46.663212Z",
     "start_time": "2021-04-09T22:06:46.206109Z"
    }
   },
   "outputs": [],
   "source": [
    "# Same here\n",
    "X_mean = X[['date', 'Monday', 'Tuesday', 'Wednesday', 'Thursday',\n",
    "            'Friday', 'Saturday', 'Sunday', 'weekend', 'store_id',\n",
    "            'parent_chain_id', 'item_price',\n",
    "            'target', 'diff_saved',\n",
    "            'diff_first', 'before_price', 'Alsace',\n",
    "            'Aquitaine', 'Auvergne', 'Basse-Normandie', 'Bourgogne', 'Bretagne',\n",
    "            'Centre - Val De Loire', 'Champagne-Ardenne', 'Corse', 'Franche-Comté',\n",
    "            'Haute-Normandie', 'Ile-De-France', 'Languedoc-Roussillon', 'Limousin',\n",
    "            'Lorraine', 'Midi-Pyrénées', 'Nord-Pas De Calais', 'Pays De La Loire',\n",
    "            'Picardie', 'Poitou-Charentes', 'Provence-Alpes-Côte D’Azur',\n",
    "            'Rhône-Alpes', 'Bakery', 'Beverages', 'Buffet', 'Butcher', 'Cafeteria',\n",
    "            'Canteen', 'Caterer', 'Fast Food / Take away restaurant', 'Fish shop',\n",
    "            'Florist', 'Fruits & vegetables store', 'Gas station', 'Hotel',\n",
    "            'Manufacturer', 'Market stall', 'Other', 'Other Specialists', 'Pastry',\n",
    "            'Supermarket Big', 'Supermarket Medium', 'Supermarket Small', 'Sushi',\n",
    "            'Traditional Restaurant']]"
   ]
  },
  {
   "cell_type": "code",
   "execution_count": null,
   "metadata": {
    "ExecuteTime": {
     "end_time": "2021-04-10T01:35:17.422473Z",
     "start_time": "2021-04-10T01:35:17.395056Z"
    }
   },
   "outputs": [],
   "source": [
    "X_sum=X_sum.groupby(['store_id', 'date'], as_index=False).sum()"
   ]
  },
  {
   "cell_type": "code",
   "execution_count": 12,
   "metadata": {
    "ExecuteTime": {
     "end_time": "2021-04-09T22:07:52.601562Z",
     "start_time": "2021-04-09T22:06:54.932603Z"
    }
   },
   "outputs": [],
   "source": [
    "X_mean=X_mean.groupby(['store_id', 'date'], as_index=False).mean()"
   ]
  },
  {
   "cell_type": "code",
   "execution_count": null,
   "metadata": {
    "ExecuteTime": {
     "end_time": "2021-04-10T01:35:08.850063Z",
     "start_time": "2021-04-10T01:35:08.633002Z"
    }
   },
   "outputs": [],
   "source": [
    "X_mean.drop(columns=['store_id', 'date'], inplace=True)\n",
    "X_final = pd.concat([X_sum, X_mean], axis=1)"
   ]
  },
  {
   "cell_type": "markdown",
   "metadata": {},
   "source": [
    "#### Shift target "
   ]
  },
  {
   "cell_type": "code",
   "execution_count": 16,
   "metadata": {
    "ExecuteTime": {
     "end_time": "2021-04-09T22:12:45.683954Z",
     "start_time": "2021-04-09T22:09:43.151464Z"
    }
   },
   "outputs": [
    {
     "data": {
      "application/vnd.jupyter.widget-view+json": {
       "model_id": "b08074d3d90b44fba5b41abe6b6aeed2",
       "version_major": 2,
       "version_minor": 0
      },
      "text/plain": [
       "HBox(children=(HTML(value=''), FloatProgress(value=0.0, max=16382.0), HTML(value='')))"
      ]
     },
     "metadata": {},
     "output_type": "display_data"
    },
    {
     "name": "stdout",
     "output_type": "stream",
     "text": [
      "\n"
     ]
    }
   ],
   "source": [
    "# target is actualy wrong (don't take multiple items and is too late )\n",
    "X_temp = X_final[['store_id', 'target']]\n",
    "X_ = np.zeros((len(X_temp), len(X_temp.columns)))\n",
    "compteur = 0\n",
    "for i in tqdm(list(X_temp.store_id.unique())):  # make sure we shift in for a given store\n",
    "    df = X_temp[X_temp['store_id'] == i].copy()\n",
    "    df['target'] = df['target'].shift(-30)\n",
    "    buf = df.to_numpy()  # using numpy to speed up calculation\n",
    "    X_[compteur:compteur+len(buf), :] = buf\n",
    "    compteur += len(buf)\n",
    "    #X_ = pd.concat([df, X_])"
   ]
  },
  {
   "cell_type": "code",
   "execution_count": 17,
   "metadata": {
    "ExecuteTime": {
     "end_time": "2021-04-09T22:12:45.699917Z",
     "start_time": "2021-04-09T22:12:45.689938Z"
    }
   },
   "outputs": [],
   "source": [
    "target_shifted=pd.DataFrame(X_, columns=['store_id', 'target_shifted'])['target_shifted']"
   ]
  },
  {
   "cell_type": "code",
   "execution_count": 18,
   "metadata": {
    "ExecuteTime": {
     "end_time": "2021-04-09T22:12:46.563941Z",
     "start_time": "2021-04-09T22:12:45.703901Z"
    }
   },
   "outputs": [],
   "source": [
    "X_train = pd.concat([X_final, target_shifted], axis=1)\n",
    "X_train['target_shifted'] = X_train['target_shifted'].fillna(0)"
   ]
  },
  {
   "cell_type": "code",
   "execution_count": 22,
   "metadata": {
    "ExecuteTime": {
     "end_time": "2021-04-09T22:18:19.736121Z",
     "start_time": "2021-04-09T22:15:49.669377Z"
    }
   },
   "outputs": [],
   "source": [
    "X_train.to_csv('X_train.csv', index=False)"
   ]
  },
  {
   "cell_type": "markdown",
   "metadata": {
    "ExecuteTime": {
     "start_time": "2021-04-11T17:19:22.841Z"
    }
   },
   "source": [
    "### For the new dataset (the one given at 3am :) ) "
   ]
  },
  {
   "cell_type": "code",
   "execution_count": 7,
   "metadata": {
    "ExecuteTime": {
     "end_time": "2021-04-10T02:43:27.550935Z",
     "start_time": "2021-04-10T02:43:27.539858Z"
    }
   },
   "outputs": [],
   "source": [
    "X_final=X"
   ]
  },
  {
   "cell_type": "code",
   "execution_count": 8,
   "metadata": {
    "ExecuteTime": {
     "end_time": "2021-04-10T02:43:27.614094Z",
     "start_time": "2021-04-10T02:43:27.554824Z"
    }
   },
   "outputs": [
    {
     "data": {
      "text/plain": [
       "3801885"
      ]
     },
     "execution_count": 8,
     "metadata": {},
     "output_type": "execute_result"
    }
   ],
   "source": [
    "len(X_final)"
   ]
  },
  {
   "cell_type": "markdown",
   "metadata": {
    "ExecuteTime": {
     "end_time": "2021-04-10T02:10:44.300782Z",
     "start_time": "2021-04-10T02:10:44.259231Z"
    }
   },
   "source": [
    "## Lag features"
   ]
  },
  {
   "cell_type": "code",
   "execution_count": 40,
   "metadata": {
    "ExecuteTime": {
     "end_time": "2021-04-10T01:40:28.015059Z",
     "start_time": "2021-04-10T01:40:28.003522Z"
    }
   },
   "outputs": [],
   "source": [
    "features_to_lag = ['store_id', 'total_supply', 'meals_saved', 'item_view']"
   ]
  },
  {
   "cell_type": "code",
   "execution_count": 41,
   "metadata": {
    "ExecuteTime": {
     "end_time": "2021-04-10T01:40:30.520913Z",
     "start_time": "2021-04-10T01:40:29.125774Z"
    }
   },
   "outputs": [
    {
     "data": {
      "text/html": [
       "<div>\n",
       "<style scoped>\n",
       "    .dataframe tbody tr th:only-of-type {\n",
       "        vertical-align: middle;\n",
       "    }\n",
       "\n",
       "    .dataframe tbody tr th {\n",
       "        vertical-align: top;\n",
       "    }\n",
       "\n",
       "    .dataframe thead th {\n",
       "        text-align: right;\n",
       "    }\n",
       "</style>\n",
       "<table border=\"1\" class=\"dataframe\">\n",
       "  <thead>\n",
       "    <tr style=\"text-align: right;\">\n",
       "      <th></th>\n",
       "      <th>store_id</th>\n",
       "      <th>total_supply</th>\n",
       "      <th>meals_saved</th>\n",
       "      <th>item_view</th>\n",
       "    </tr>\n",
       "  </thead>\n",
       "  <tbody>\n",
       "    <tr>\n",
       "      <th>0</th>\n",
       "      <td>4</td>\n",
       "      <td>2</td>\n",
       "      <td>0</td>\n",
       "      <td>0</td>\n",
       "    </tr>\n",
       "    <tr>\n",
       "      <th>6</th>\n",
       "      <td>4</td>\n",
       "      <td>0</td>\n",
       "      <td>0</td>\n",
       "      <td>0</td>\n",
       "    </tr>\n",
       "    <tr>\n",
       "      <th>13</th>\n",
       "      <td>4</td>\n",
       "      <td>0</td>\n",
       "      <td>0</td>\n",
       "      <td>0</td>\n",
       "    </tr>\n",
       "    <tr>\n",
       "      <th>16</th>\n",
       "      <td>4</td>\n",
       "      <td>4</td>\n",
       "      <td>4</td>\n",
       "      <td>0</td>\n",
       "    </tr>\n",
       "    <tr>\n",
       "      <th>17</th>\n",
       "      <td>4</td>\n",
       "      <td>4</td>\n",
       "      <td>4</td>\n",
       "      <td>0</td>\n",
       "    </tr>\n",
       "    <tr>\n",
       "      <th>...</th>\n",
       "      <td>...</td>\n",
       "      <td>...</td>\n",
       "      <td>...</td>\n",
       "      <td>...</td>\n",
       "    </tr>\n",
       "    <tr>\n",
       "      <th>4003927</th>\n",
       "      <td>73292</td>\n",
       "      <td>20</td>\n",
       "      <td>20</td>\n",
       "      <td>185</td>\n",
       "    </tr>\n",
       "    <tr>\n",
       "      <th>4003928</th>\n",
       "      <td>73372</td>\n",
       "      <td>0</td>\n",
       "      <td>0</td>\n",
       "      <td>0</td>\n",
       "    </tr>\n",
       "    <tr>\n",
       "      <th>4003929</th>\n",
       "      <td>73372</td>\n",
       "      <td>2</td>\n",
       "      <td>2</td>\n",
       "      <td>29</td>\n",
       "    </tr>\n",
       "    <tr>\n",
       "      <th>4003930</th>\n",
       "      <td>73398</td>\n",
       "      <td>7</td>\n",
       "      <td>6</td>\n",
       "      <td>160</td>\n",
       "    </tr>\n",
       "    <tr>\n",
       "      <th>4003931</th>\n",
       "      <td>73398</td>\n",
       "      <td>6</td>\n",
       "      <td>6</td>\n",
       "      <td>143</td>\n",
       "    </tr>\n",
       "  </tbody>\n",
       "</table>\n",
       "<p>3801885 rows × 4 columns</p>\n",
       "</div>"
      ],
      "text/plain": [
       "         store_id  total_supply  meals_saved  item_view\n",
       "0               4             2            0          0\n",
       "6               4             0            0          0\n",
       "13              4             0            0          0\n",
       "16              4             4            4          0\n",
       "17              4             4            4          0\n",
       "...           ...           ...          ...        ...\n",
       "4003927     73292            20           20        185\n",
       "4003928     73372             0            0          0\n",
       "4003929     73372             2            2         29\n",
       "4003930     73398             7            6        160\n",
       "4003931     73398             6            6        143\n",
       "\n",
       "[3801885 rows x 4 columns]"
      ]
     },
     "execution_count": 41,
     "metadata": {},
     "output_type": "execute_result"
    }
   ],
   "source": [
    "X_final[features_to_lag]"
   ]
  },
  {
   "cell_type": "code",
   "execution_count": 42,
   "metadata": {
    "ExecuteTime": {
     "end_time": "2021-04-10T01:57:42.459178Z",
     "start_time": "2021-04-10T01:40:33.861340Z"
    }
   },
   "outputs": [
    {
     "data": {
      "application/vnd.jupyter.widget-view+json": {
       "model_id": "ca1633682b014abbbc5b32ff11716243",
       "version_major": 2,
       "version_minor": 0
      },
      "text/plain": [
       "HBox(children=(HTML(value=''), FloatProgress(value=0.0, max=13919.0), HTML(value='')))"
      ]
     },
     "metadata": {},
     "output_type": "display_data"
    },
    {
     "name": "stdout",
     "output_type": "stream",
     "text": [
      "\n"
     ]
    }
   ],
   "source": [
    "X_temp = X_final[features_to_lag]\n",
    "X_ = np.zeros((len(X_temp), 49))\n",
    "compteur = 0\n",
    "for i in tqdm(list(X_temp.store_id.unique())):\n",
    "    df = X_temp[X_temp['store_id'] == i].copy()\n",
    "    for i in range(1, 16):\n",
    "        for col in ['total_supply', 'meals_saved', 'item_view']:\n",
    "            df[\"{}_lag_{}\".format(col, i)] = df[col].shift(i)\n",
    "    buf = df.to_numpy()\n",
    "    X_[compteur:compteur+len(buf), :] = buf\n",
    "    compteur += len(buf)"
   ]
  },
  {
   "cell_type": "code",
   "execution_count": 43,
   "metadata": {
    "ExecuteTime": {
     "end_time": "2021-04-10T01:57:42.474636Z",
     "start_time": "2021-04-10T01:57:42.464549Z"
    }
   },
   "outputs": [],
   "source": [
    "X_shifted = pd.DataFrame(X_, columns=df.columns)"
   ]
  },
  {
   "cell_type": "code",
   "execution_count": 44,
   "metadata": {
    "ExecuteTime": {
     "end_time": "2021-04-10T02:02:29.948204Z",
     "start_time": "2021-04-10T01:57:42.478675Z"
    }
   },
   "outputs": [],
   "source": [
    "X_shifted.to_csv('X_shifted.csv', index=False)"
   ]
  },
  {
   "cell_type": "code",
   "execution_count": 9,
   "metadata": {
    "ExecuteTime": {
     "end_time": "2021-04-10T02:44:06.747214Z",
     "start_time": "2021-04-10T02:43:27.619048Z"
    }
   },
   "outputs": [],
   "source": [
    "X_shifted=pd.read_csv('X_shifted.csv') #notebook  crashed "
   ]
  },
  {
   "cell_type": "code",
   "execution_count": 20,
   "metadata": {
    "ExecuteTime": {
     "end_time": "2021-04-10T02:59:04.228898Z",
     "start_time": "2021-04-10T02:59:03.338060Z"
    }
   },
   "outputs": [],
   "source": [
    "X_final.drop(columns=['store_id'], axis=1, inplace=True)\n",
    "X_final.reset_index(drop=True, inplace=True)"
   ]
  },
  {
   "cell_type": "code",
   "execution_count": 21,
   "metadata": {
    "ExecuteTime": {
     "end_time": "2021-04-10T02:59:12.563535Z",
     "start_time": "2021-04-10T02:59:12.516989Z"
    }
   },
   "outputs": [
    {
     "data": {
      "text/html": [
       "<div>\n",
       "<style scoped>\n",
       "    .dataframe tbody tr th:only-of-type {\n",
       "        vertical-align: middle;\n",
       "    }\n",
       "\n",
       "    .dataframe tbody tr th {\n",
       "        vertical-align: top;\n",
       "    }\n",
       "\n",
       "    .dataframe thead th {\n",
       "        text-align: right;\n",
       "    }\n",
       "</style>\n",
       "<table border=\"1\" class=\"dataframe\">\n",
       "  <thead>\n",
       "    <tr style=\"text-align: right;\">\n",
       "      <th></th>\n",
       "      <th>date</th>\n",
       "      <th>Monday</th>\n",
       "      <th>Tuesday</th>\n",
       "      <th>Wednesday</th>\n",
       "      <th>Thursday</th>\n",
       "      <th>Friday</th>\n",
       "      <th>Saturday</th>\n",
       "      <th>Sunday</th>\n",
       "      <th>weekend</th>\n",
       "      <th>parent_chain_id</th>\n",
       "      <th>...</th>\n",
       "      <th>Manufacturer</th>\n",
       "      <th>Market stall</th>\n",
       "      <th>Other</th>\n",
       "      <th>Other Specialists</th>\n",
       "      <th>Pastry</th>\n",
       "      <th>Supermarket Big</th>\n",
       "      <th>Supermarket Medium</th>\n",
       "      <th>Supermarket Small</th>\n",
       "      <th>Sushi</th>\n",
       "      <th>Traditional Restaurant</th>\n",
       "    </tr>\n",
       "  </thead>\n",
       "  <tbody>\n",
       "    <tr>\n",
       "      <th>0</th>\n",
       "      <td>2019-06-02</td>\n",
       "      <td>0</td>\n",
       "      <td>0</td>\n",
       "      <td>0</td>\n",
       "      <td>0</td>\n",
       "      <td>0</td>\n",
       "      <td>0</td>\n",
       "      <td>1</td>\n",
       "      <td>1</td>\n",
       "      <td>0.0</td>\n",
       "      <td>...</td>\n",
       "      <td>0</td>\n",
       "      <td>0</td>\n",
       "      <td>0</td>\n",
       "      <td>0</td>\n",
       "      <td>0</td>\n",
       "      <td>0</td>\n",
       "      <td>0</td>\n",
       "      <td>0</td>\n",
       "      <td>0</td>\n",
       "      <td>0</td>\n",
       "    </tr>\n",
       "    <tr>\n",
       "      <th>1</th>\n",
       "      <td>2019-06-08</td>\n",
       "      <td>0</td>\n",
       "      <td>0</td>\n",
       "      <td>0</td>\n",
       "      <td>0</td>\n",
       "      <td>0</td>\n",
       "      <td>1</td>\n",
       "      <td>0</td>\n",
       "      <td>1</td>\n",
       "      <td>0.0</td>\n",
       "      <td>...</td>\n",
       "      <td>0</td>\n",
       "      <td>0</td>\n",
       "      <td>0</td>\n",
       "      <td>0</td>\n",
       "      <td>0</td>\n",
       "      <td>0</td>\n",
       "      <td>0</td>\n",
       "      <td>0</td>\n",
       "      <td>0</td>\n",
       "      <td>0</td>\n",
       "    </tr>\n",
       "    <tr>\n",
       "      <th>2</th>\n",
       "      <td>2019-06-15</td>\n",
       "      <td>0</td>\n",
       "      <td>0</td>\n",
       "      <td>0</td>\n",
       "      <td>0</td>\n",
       "      <td>0</td>\n",
       "      <td>1</td>\n",
       "      <td>0</td>\n",
       "      <td>1</td>\n",
       "      <td>0.0</td>\n",
       "      <td>...</td>\n",
       "      <td>0</td>\n",
       "      <td>0</td>\n",
       "      <td>0</td>\n",
       "      <td>0</td>\n",
       "      <td>0</td>\n",
       "      <td>0</td>\n",
       "      <td>0</td>\n",
       "      <td>0</td>\n",
       "      <td>0</td>\n",
       "      <td>0</td>\n",
       "    </tr>\n",
       "    <tr>\n",
       "      <th>3</th>\n",
       "      <td>2019-06-18</td>\n",
       "      <td>0</td>\n",
       "      <td>1</td>\n",
       "      <td>0</td>\n",
       "      <td>0</td>\n",
       "      <td>0</td>\n",
       "      <td>0</td>\n",
       "      <td>0</td>\n",
       "      <td>0</td>\n",
       "      <td>0.0</td>\n",
       "      <td>...</td>\n",
       "      <td>0</td>\n",
       "      <td>0</td>\n",
       "      <td>0</td>\n",
       "      <td>0</td>\n",
       "      <td>0</td>\n",
       "      <td>0</td>\n",
       "      <td>0</td>\n",
       "      <td>0</td>\n",
       "      <td>0</td>\n",
       "      <td>0</td>\n",
       "    </tr>\n",
       "    <tr>\n",
       "      <th>4</th>\n",
       "      <td>2019-06-19</td>\n",
       "      <td>0</td>\n",
       "      <td>0</td>\n",
       "      <td>1</td>\n",
       "      <td>0</td>\n",
       "      <td>0</td>\n",
       "      <td>0</td>\n",
       "      <td>0</td>\n",
       "      <td>0</td>\n",
       "      <td>0.0</td>\n",
       "      <td>...</td>\n",
       "      <td>0</td>\n",
       "      <td>0</td>\n",
       "      <td>0</td>\n",
       "      <td>0</td>\n",
       "      <td>0</td>\n",
       "      <td>0</td>\n",
       "      <td>0</td>\n",
       "      <td>0</td>\n",
       "      <td>0</td>\n",
       "      <td>0</td>\n",
       "    </tr>\n",
       "  </tbody>\n",
       "</table>\n",
       "<p>5 rows × 73 columns</p>\n",
       "</div>"
      ],
      "text/plain": [
       "        date  Monday  Tuesday  Wednesday  Thursday  Friday  Saturday  Sunday  \\\n",
       "0 2019-06-02       0        0          0         0       0         0       1   \n",
       "1 2019-06-08       0        0          0         0       0         1       0   \n",
       "2 2019-06-15       0        0          0         0       0         1       0   \n",
       "3 2019-06-18       0        1          0         0       0         0       0   \n",
       "4 2019-06-19       0        0          1         0       0         0       0   \n",
       "\n",
       "   weekend  parent_chain_id  ...  Manufacturer  Market stall  Other  \\\n",
       "0        1              0.0  ...             0             0      0   \n",
       "1        1              0.0  ...             0             0      0   \n",
       "2        1              0.0  ...             0             0      0   \n",
       "3        0              0.0  ...             0             0      0   \n",
       "4        0              0.0  ...             0             0      0   \n",
       "\n",
       "   Other Specialists  Pastry  Supermarket Big  Supermarket Medium  \\\n",
       "0                  0       0                0                   0   \n",
       "1                  0       0                0                   0   \n",
       "2                  0       0                0                   0   \n",
       "3                  0       0                0                   0   \n",
       "4                  0       0                0                   0   \n",
       "\n",
       "   Supermarket Small  Sushi  Traditional Restaurant  \n",
       "0                  0      0                       0  \n",
       "1                  0      0                       0  \n",
       "2                  0      0                       0  \n",
       "3                  0      0                       0  \n",
       "4                  0      0                       0  \n",
       "\n",
       "[5 rows x 73 columns]"
      ]
     },
     "execution_count": 21,
     "metadata": {},
     "output_type": "execute_result"
    }
   ],
   "source": [
    "X_final.head()"
   ]
  },
  {
   "cell_type": "code",
   "execution_count": 18,
   "metadata": {
    "ExecuteTime": {
     "end_time": "2021-04-10T02:56:47.306168Z",
     "start_time": "2021-04-10T02:56:47.231773Z"
    }
   },
   "outputs": [
    {
     "data": {
      "text/html": [
       "<div>\n",
       "<style scoped>\n",
       "    .dataframe tbody tr th:only-of-type {\n",
       "        vertical-align: middle;\n",
       "    }\n",
       "\n",
       "    .dataframe tbody tr th {\n",
       "        vertical-align: top;\n",
       "    }\n",
       "\n",
       "    .dataframe thead th {\n",
       "        text-align: right;\n",
       "    }\n",
       "</style>\n",
       "<table border=\"1\" class=\"dataframe\">\n",
       "  <thead>\n",
       "    <tr style=\"text-align: right;\">\n",
       "      <th></th>\n",
       "      <th>store_id</th>\n",
       "      <th>total_supply</th>\n",
       "      <th>meals_saved</th>\n",
       "      <th>item_view</th>\n",
       "      <th>total_supply_lag_1</th>\n",
       "      <th>meals_saved_lag_1</th>\n",
       "      <th>item_view_lag_1</th>\n",
       "      <th>total_supply_lag_2</th>\n",
       "      <th>meals_saved_lag_2</th>\n",
       "      <th>item_view_lag_2</th>\n",
       "      <th>...</th>\n",
       "      <th>item_view_lag_12</th>\n",
       "      <th>total_supply_lag_13</th>\n",
       "      <th>meals_saved_lag_13</th>\n",
       "      <th>item_view_lag_13</th>\n",
       "      <th>total_supply_lag_14</th>\n",
       "      <th>meals_saved_lag_14</th>\n",
       "      <th>item_view_lag_14</th>\n",
       "      <th>total_supply_lag_15</th>\n",
       "      <th>meals_saved_lag_15</th>\n",
       "      <th>item_view_lag_15</th>\n",
       "    </tr>\n",
       "  </thead>\n",
       "  <tbody>\n",
       "    <tr>\n",
       "      <th>0</th>\n",
       "      <td>4.0</td>\n",
       "      <td>2.0</td>\n",
       "      <td>0.0</td>\n",
       "      <td>0.0</td>\n",
       "      <td>NaN</td>\n",
       "      <td>NaN</td>\n",
       "      <td>NaN</td>\n",
       "      <td>NaN</td>\n",
       "      <td>NaN</td>\n",
       "      <td>NaN</td>\n",
       "      <td>...</td>\n",
       "      <td>NaN</td>\n",
       "      <td>NaN</td>\n",
       "      <td>NaN</td>\n",
       "      <td>NaN</td>\n",
       "      <td>NaN</td>\n",
       "      <td>NaN</td>\n",
       "      <td>NaN</td>\n",
       "      <td>NaN</td>\n",
       "      <td>NaN</td>\n",
       "      <td>NaN</td>\n",
       "    </tr>\n",
       "    <tr>\n",
       "      <th>1</th>\n",
       "      <td>4.0</td>\n",
       "      <td>0.0</td>\n",
       "      <td>0.0</td>\n",
       "      <td>0.0</td>\n",
       "      <td>2.0</td>\n",
       "      <td>0.0</td>\n",
       "      <td>0.0</td>\n",
       "      <td>NaN</td>\n",
       "      <td>NaN</td>\n",
       "      <td>NaN</td>\n",
       "      <td>...</td>\n",
       "      <td>NaN</td>\n",
       "      <td>NaN</td>\n",
       "      <td>NaN</td>\n",
       "      <td>NaN</td>\n",
       "      <td>NaN</td>\n",
       "      <td>NaN</td>\n",
       "      <td>NaN</td>\n",
       "      <td>NaN</td>\n",
       "      <td>NaN</td>\n",
       "      <td>NaN</td>\n",
       "    </tr>\n",
       "    <tr>\n",
       "      <th>2</th>\n",
       "      <td>4.0</td>\n",
       "      <td>0.0</td>\n",
       "      <td>0.0</td>\n",
       "      <td>0.0</td>\n",
       "      <td>0.0</td>\n",
       "      <td>0.0</td>\n",
       "      <td>0.0</td>\n",
       "      <td>2.0</td>\n",
       "      <td>0.0</td>\n",
       "      <td>0.0</td>\n",
       "      <td>...</td>\n",
       "      <td>NaN</td>\n",
       "      <td>NaN</td>\n",
       "      <td>NaN</td>\n",
       "      <td>NaN</td>\n",
       "      <td>NaN</td>\n",
       "      <td>NaN</td>\n",
       "      <td>NaN</td>\n",
       "      <td>NaN</td>\n",
       "      <td>NaN</td>\n",
       "      <td>NaN</td>\n",
       "    </tr>\n",
       "    <tr>\n",
       "      <th>3</th>\n",
       "      <td>4.0</td>\n",
       "      <td>4.0</td>\n",
       "      <td>4.0</td>\n",
       "      <td>0.0</td>\n",
       "      <td>0.0</td>\n",
       "      <td>0.0</td>\n",
       "      <td>0.0</td>\n",
       "      <td>0.0</td>\n",
       "      <td>0.0</td>\n",
       "      <td>0.0</td>\n",
       "      <td>...</td>\n",
       "      <td>NaN</td>\n",
       "      <td>NaN</td>\n",
       "      <td>NaN</td>\n",
       "      <td>NaN</td>\n",
       "      <td>NaN</td>\n",
       "      <td>NaN</td>\n",
       "      <td>NaN</td>\n",
       "      <td>NaN</td>\n",
       "      <td>NaN</td>\n",
       "      <td>NaN</td>\n",
       "    </tr>\n",
       "    <tr>\n",
       "      <th>4</th>\n",
       "      <td>4.0</td>\n",
       "      <td>4.0</td>\n",
       "      <td>4.0</td>\n",
       "      <td>0.0</td>\n",
       "      <td>4.0</td>\n",
       "      <td>4.0</td>\n",
       "      <td>0.0</td>\n",
       "      <td>0.0</td>\n",
       "      <td>0.0</td>\n",
       "      <td>0.0</td>\n",
       "      <td>...</td>\n",
       "      <td>NaN</td>\n",
       "      <td>NaN</td>\n",
       "      <td>NaN</td>\n",
       "      <td>NaN</td>\n",
       "      <td>NaN</td>\n",
       "      <td>NaN</td>\n",
       "      <td>NaN</td>\n",
       "      <td>NaN</td>\n",
       "      <td>NaN</td>\n",
       "      <td>NaN</td>\n",
       "    </tr>\n",
       "  </tbody>\n",
       "</table>\n",
       "<p>5 rows × 49 columns</p>\n",
       "</div>"
      ],
      "text/plain": [
       "   store_id  total_supply  meals_saved  item_view  total_supply_lag_1  \\\n",
       "0       4.0           2.0          0.0        0.0                 NaN   \n",
       "1       4.0           0.0          0.0        0.0                 2.0   \n",
       "2       4.0           0.0          0.0        0.0                 0.0   \n",
       "3       4.0           4.0          4.0        0.0                 0.0   \n",
       "4       4.0           4.0          4.0        0.0                 4.0   \n",
       "\n",
       "   meals_saved_lag_1  item_view_lag_1  total_supply_lag_2  meals_saved_lag_2  \\\n",
       "0                NaN              NaN                 NaN                NaN   \n",
       "1                0.0              0.0                 NaN                NaN   \n",
       "2                0.0              0.0                 2.0                0.0   \n",
       "3                0.0              0.0                 0.0                0.0   \n",
       "4                4.0              0.0                 0.0                0.0   \n",
       "\n",
       "   item_view_lag_2  ...  item_view_lag_12  total_supply_lag_13  \\\n",
       "0              NaN  ...               NaN                  NaN   \n",
       "1              NaN  ...               NaN                  NaN   \n",
       "2              0.0  ...               NaN                  NaN   \n",
       "3              0.0  ...               NaN                  NaN   \n",
       "4              0.0  ...               NaN                  NaN   \n",
       "\n",
       "   meals_saved_lag_13  item_view_lag_13  total_supply_lag_14  \\\n",
       "0                 NaN               NaN                  NaN   \n",
       "1                 NaN               NaN                  NaN   \n",
       "2                 NaN               NaN                  NaN   \n",
       "3                 NaN               NaN                  NaN   \n",
       "4                 NaN               NaN                  NaN   \n",
       "\n",
       "   meals_saved_lag_14  item_view_lag_14  total_supply_lag_15  \\\n",
       "0                 NaN               NaN                  NaN   \n",
       "1                 NaN               NaN                  NaN   \n",
       "2                 NaN               NaN                  NaN   \n",
       "3                 NaN               NaN                  NaN   \n",
       "4                 NaN               NaN                  NaN   \n",
       "\n",
       "   meals_saved_lag_15  item_view_lag_15  \n",
       "0                 NaN               NaN  \n",
       "1                 NaN               NaN  \n",
       "2                 NaN               NaN  \n",
       "3                 NaN               NaN  \n",
       "4                 NaN               NaN  \n",
       "\n",
       "[5 rows x 49 columns]"
      ]
     },
     "execution_count": 18,
     "metadata": {},
     "output_type": "execute_result"
    }
   ],
   "source": [
    "X_shifted.head()"
   ]
  },
  {
   "cell_type": "code",
   "execution_count": 22,
   "metadata": {
    "ExecuteTime": {
     "end_time": "2021-04-10T02:59:39.879561Z",
     "start_time": "2021-04-10T02:59:36.542085Z"
    }
   },
   "outputs": [],
   "source": [
    "X_train=pd.concat([X_final,X_shifted],axis=1)"
   ]
  },
  {
   "cell_type": "code",
   "execution_count": null,
   "metadata": {
    "ExecuteTime": {
     "start_time": "2021-04-10T02:31:42.855Z"
    }
   },
   "outputs": [],
   "source": [
    "# adding a feature capturing ratings evolution w.r.t time\n",
    "\n",
    "sum_rate, nb_rates = 0, 0\n",
    "mem = 0\n",
    "res_moy = []\n",
    "for i, row in X_train.iterrows():\n",
    "    if i % 100000 == 0:\n",
    "        print(i)\n",
    "    if row['store_id'] != mem:\n",
    "        sum_rate, nb_rates = 0, 0\n",
    "        mem = row['store_id']\n",
    "    sum_rate += row['sum_rating_overall']\n",
    "    nb_rates += row['rating_count']\n",
    "    if nb_rates > 0:\n",
    "        res_moy.append(sum_rate/nb_rates)\n",
    "    else:\n",
    "        res_moy.append(4.45)"
   ]
  },
  {
   "cell_type": "code",
   "execution_count": 11,
   "metadata": {
    "ExecuteTime": {
     "end_time": "2021-04-10T02:44:38.759830Z",
     "start_time": "2021-04-10T02:44:24.772846Z"
    }
   },
   "outputs": [],
   "source": [
    "#X_train['churn_duration']=X_train['target_shifted'].cumsum()*X_train['target_shifted']\n",
    "#X_train['rate_evolution']=res_moy \n",
    "a = X_train['target'] != 0\n",
    "X_train['churn_duration'] = a.cumsum()-a.cumsum().where(~a).ffill().fillna(0).astype(int) \n",
    "#how many consecutive days do store churn?"
   ]
  },
  {
   "cell_type": "code",
   "execution_count": null,
   "metadata": {
    "ExecuteTime": {
     "start_time": "2021-04-10T02:39:21.553Z"
    }
   },
   "outputs": [],
   "source": [
    "X_train[X_train['store_id']==22].loc[400:450, ['target', 'churn_duration']] #check churn duration is actually right"
   ]
  },
  {
   "cell_type": "code",
   "execution_count": 12,
   "metadata": {
    "ExecuteTime": {
     "end_time": "2021-04-09T23:20:25.016198Z",
     "start_time": "2021-04-09T23:19:46.322844Z"
    }
   },
   "outputs": [],
   "source": [
    "X_train[['store_id', 'rate_evolution', 'churn_duration']].to_csv(\n",
    "    'churn_for_clem.csv', index=False)  # for descr stat"
   ]
  },
  {
   "cell_type": "code",
   "execution_count": 17,
   "metadata": {
    "ExecuteTime": {
     "end_time": "2021-04-10T00:24:41.267689Z",
     "start_time": "2021-04-10T00:24:41.241634Z"
    }
   },
   "outputs": [
    {
     "data": {
      "text/plain": [
       "Index(['store_id', 'date', 'total_supply', 'declared_supply',\n",
       "       'manual_added_supply', 'manual_removed_supply', 'meals_saved',\n",
       "       'consumer_cancellation', 'store_cancellation', 'meals_refunded',\n",
       "       ...\n",
       "       'meals_saved_lag_13', 'item_view_lag_13', 'total_supply_lag_14',\n",
       "       'meals_saved_lag_14', 'item_view_lag_14', 'total_supply_lag_15',\n",
       "       'meals_saved_lag_15', 'item_view_lag_15', 'rate_evolution',\n",
       "       'churn_duration'],\n",
       "      dtype='object', length=125)"
      ]
     },
     "execution_count": 17,
     "metadata": {},
     "output_type": "execute_result"
    }
   ],
   "source": [
    "X_train.columns #make sure everything is fine :) "
   ]
  },
  {
   "cell_type": "code",
   "execution_count": 24,
   "metadata": {
    "ExecuteTime": {
     "end_time": "2021-04-10T03:09:43.601705Z",
     "start_time": "2021-04-10T02:59:51.973315Z"
    }
   },
   "outputs": [],
   "source": [
    "X_train.to_csv('X_train_final_duration.csv', index=False)"
   ]
  }
 ],
 "metadata": {
  "kernelspec": {
   "display_name": "Python 3",
   "language": "python",
   "name": "python3"
  },
  "language_info": {
   "codemirror_mode": {
    "name": "ipython",
    "version": 3
   },
   "file_extension": ".py",
   "mimetype": "text/x-python",
   "name": "python",
   "nbconvert_exporter": "python",
   "pygments_lexer": "ipython3",
   "version": "3.8.5"
  },
  "toc": {
   "base_numbering": 1,
   "nav_menu": {},
   "number_sections": true,
   "sideBar": true,
   "skip_h1_title": false,
   "title_cell": "Table of Contents",
   "title_sidebar": "Contents",
   "toc_cell": true,
   "toc_position": {
    "height": "calc(100% - 180px)",
    "left": "10px",
    "top": "150px",
    "width": "297.6px"
   },
   "toc_section_display": true,
   "toc_window_display": true
  }
 },
 "nbformat": 4,
 "nbformat_minor": 4
}
