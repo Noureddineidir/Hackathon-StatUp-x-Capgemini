{
 "cells": [
  {
   "cell_type": "markdown",
   "metadata": {
    "toc": true
   },
   "source": [
    "<h1>Table of Contents<span class=\"tocSkip\"></span></h1>\n",
    "<div class=\"toc\"><ul class=\"toc-item\"><li><span><a href=\"#Feature-selection\" data-toc-modified-id=\"Feature-selection-1\"><span class=\"toc-item-num\">1&nbsp;&nbsp;</span>Feature selection</a></span></li><li><span><a href=\"#Imputation\" data-toc-modified-id=\"Imputation-2\"><span class=\"toc-item-num\">2&nbsp;&nbsp;</span>Imputation</a></span></li><li><span><a href=\"#OneHotEncoding\" data-toc-modified-id=\"OneHotEncoding-3\"><span class=\"toc-item-num\">3&nbsp;&nbsp;</span>OneHotEncoding</a></span></li><li><span><a href=\"#Lagging-features\" data-toc-modified-id=\"Lagging-features-4\"><span class=\"toc-item-num\">4&nbsp;&nbsp;</span>Lagging features</a></span></li></ul></div>"
   ]
  },
  {
   "cell_type": "code",
   "execution_count": 4,
   "metadata": {
    "ExecuteTime": {
     "end_time": "2021-04-10T03:17:14.824005Z",
     "start_time": "2021-04-10T03:17:14.813033Z"
    }
   },
   "outputs": [],
   "source": [
    "import pandas as pd\n",
    "import numpy as np\n",
    "import sklearn\n",
    "from tqdm.notebook import tqdm\n",
    "import matplotlib.pyplot as plt\n",
    "%matplotlib inline\n",
    "#path= ''"
   ]
  },
  {
   "cell_type": "code",
   "execution_count": 5,
   "metadata": {
    "ExecuteTime": {
     "end_time": "2021-04-10T03:17:18.238813Z",
     "start_time": "2021-04-10T03:17:16.769745Z"
    }
   },
   "outputs": [],
   "source": [
    "test=pd.read_csv('test_up.csv')"
   ]
  },
  {
   "cell_type": "code",
   "execution_count": 6,
   "metadata": {
    "ExecuteTime": {
     "end_time": "2021-04-10T03:17:21.517418Z",
     "start_time": "2021-04-10T03:17:21.505438Z"
    }
   },
   "outputs": [
    {
     "data": {
      "text/plain": [
       "506522"
      ]
     },
     "execution_count": 6,
     "metadata": {},
     "output_type": "execute_result"
    }
   ],
   "source": [
    "len(test) #check everything is ok "
   ]
  },
  {
   "cell_type": "code",
   "execution_count": 7,
   "metadata": {
    "ExecuteTime": {
     "end_time": "2021-04-10T03:17:24.374855Z",
     "start_time": "2021-04-10T03:17:24.366522Z"
    }
   },
   "outputs": [
    {
     "data": {
      "text/plain": [
       "Index(['date', 'store_id', 'parent_chain_id', 'store_country',\n",
       "       'country_iso_code', 'region_id', 'store_region', 'store_segment',\n",
       "       'store_activity_name', 'items_first_enabled_date',\n",
       "       'store_first_saving_date', 'store_last_saving_date', 'item_id',\n",
       "       'item_name', 'before_price', 'currency_code', 'pickup_start',\n",
       "       'pickup_end', 'total_supply', 'declared_supply', 'manual_added_supply',\n",
       "       'manual_removed_supply', 'meals_saved', 'consumer_cancellation',\n",
       "       'store_cancellation', 'item_price', 'meals_refunded', 'rating_count',\n",
       "       'sum_rating_overall', 'item_view', 'no_unique_consumers', 'is_enabled',\n",
       "       'Département', 'index'],\n",
       "      dtype='object')"
      ]
     },
     "execution_count": 7,
     "metadata": {},
     "output_type": "execute_result"
    }
   ],
   "source": [
    "test.columns #same"
   ]
  },
  {
   "cell_type": "markdown",
   "metadata": {},
   "source": [
    "# Feature selection "
   ]
  },
  {
   "cell_type": "code",
   "execution_count": 8,
   "metadata": {
    "ExecuteTime": {
     "end_time": "2021-04-10T03:18:26.702161Z",
     "start_time": "2021-04-10T03:18:26.218238Z"
    }
   },
   "outputs": [
    {
     "name": "stdout",
     "output_type": "stream",
     "text": [
      "1 494515\n"
     ]
    }
   ],
   "source": [
    "X_test = test[['date', 'store_id', 'parent_chain_id', 'store_region', 'store_segment',\n",
    "               'store_first_saving_date', 'before_price', 'total_supply', 'declared_supply', 'manual_added_supply',\n",
    "               'manual_removed_supply', 'meals_saved', 'consumer_cancellation',\n",
    "               'store_cancellation', 'item_price', 'meals_refunded', 'rating_count',\n",
    "               'sum_rating_overall', 'item_view', 'no_unique_consumers',\n",
    "               'Département']]\n",
    "\n",
    "# dropna and junked data\n",
    "X_test = X_test.dropna(subset=['store_first_saving_date'])\n",
    "X_test['parent_chain_id'] = X_test['parent_chain_id'].fillna(0)\n",
    "X_test = X_test[X_test['meals_saved'] <= X_test['total_supply']]\n",
    "print('1', len(X_test))\n",
    "# create diff saved and diff first\n",
    "X_test['diff_saved'] = (\n",
    "    (X_test['total_supply'] - X_test['meals_saved']) / X_test['total_supply']).fillna(0)\n",
    "X_test['diff_first'] = (pd.to_datetime(X_test['date']) -\n",
    "                        pd.to_datetime(X_test['store_first_saving_date'])).dt.days\n",
    "X_test.drop(columns=['store_first_saving_date'], inplace=True)"
   ]
  },
  {
   "cell_type": "markdown",
   "metadata": {},
   "source": [
    "# Imputation"
   ]
  },
  {
   "cell_type": "code",
   "execution_count": 9,
   "metadata": {
    "ExecuteTime": {
     "end_time": "2021-04-10T03:18:32.664846Z",
     "start_time": "2021-04-10T03:18:32.033898Z"
    }
   },
   "outputs": [
    {
     "name": "stdout",
     "output_type": "stream",
     "text": [
      "22\n",
      "2 494515\n",
      "21\n",
      "3 494515\n",
      "494515\n"
     ]
    }
   ],
   "source": [
    "from sklearn.impute import SimpleImputer\n",
    "\n",
    "# Imputation\n",
    "my_imputer = SimpleImputer(strategy='median')\n",
    "\n",
    "impute_median = np.array(X_test['before_price']).reshape(-1, 1)\n",
    "\n",
    "before_price_was_imputed = X_test['before_price'].isnull()\n",
    "before_price_imputed = pd.DataFrame(my_imputer.fit_transform(impute_median))\n",
    "\n",
    "print(len(X_test.columns))\n",
    "X_test.drop(columns=['before_price'], axis=1, inplace=True)\n",
    "print('2', len(X_test))\n",
    "print(len(X_test.columns))\n",
    "\n",
    "X_test['before_price'] = np.array(before_price_imputed)\n",
    "print('3', len(X_test))\n",
    "\n",
    "date = pd.DataFrame()\n",
    "date['date'] = pd.to_datetime(X_test['date'])\n",
    "date['dayOfWeek'] = date['date'].dt.day_name()\n",
    "date_day_string = date['dayOfWeek']\n",
    "date[['Monday', 'Tuesday', 'Wednesday', 'Thursday', 'Friday', 'Saturday', 'Sunday']] = pd.get_dummies(\n",
    "    date_day_string)[['Monday', 'Tuesday', 'Wednesday', 'Thursday', 'Friday', 'Saturday', 'Sunday']]\n",
    "date['weekend'] = date_day_string.isin(\n",
    "    ['Saturday', 'Sunday']).replace({True: 1, False: 0})\n",
    "\n",
    "X_test.drop(columns=['date'], inplace=True)\n",
    "print(len(X_test))"
   ]
  },
  {
   "cell_type": "markdown",
   "metadata": {
    "ExecuteTime": {
     "end_time": "2021-04-12T08:06:26.659919Z",
     "start_time": "2021-04-12T08:06:26.643775Z"
    }
   },
   "source": [
    "# OneHotEncoding"
   ]
  },
  {
   "cell_type": "code",
   "execution_count": 10,
   "metadata": {
    "ExecuteTime": {
     "end_time": "2021-04-10T03:18:38.545098Z",
     "start_time": "2021-04-10T03:18:38.223463Z"
    }
   },
   "outputs": [],
   "source": [
    "region_dummies = pd.get_dummies(X_test['store_region'])\n",
    "segment_dummies = pd.get_dummies(X_test['store_segment'])\n",
    "X_test = pd.concat([date, X_test, region_dummies, segment_dummies], axis=1)\n",
    "X_test.drop(columns=['dayOfWeek', 'store_region',\n",
    "                     'store_segment'], inplace=True)\n",
    "X_test['Département'] = X_test['Département'].astype('int64')"
   ]
  },
  {
   "cell_type": "code",
   "execution_count": 11,
   "metadata": {
    "ExecuteTime": {
     "end_time": "2021-04-10T03:19:20.483651Z",
     "start_time": "2021-04-10T03:19:20.480660Z"
    }
   },
   "outputs": [],
   "source": [
    "X_test_final=X_test.copy()\n"
   ]
  },
  {
   "cell_type": "markdown",
   "metadata": {
    "ExecuteTime": {
     "end_time": "2021-04-12T08:07:01.872468Z",
     "start_time": "2021-04-12T08:07:01.859796Z"
    }
   },
   "source": [
    "# Lagging features"
   ]
  },
  {
   "cell_type": "code",
   "execution_count": 15,
   "metadata": {
    "ExecuteTime": {
     "end_time": "2021-04-10T03:20:39.624847Z",
     "start_time": "2021-04-10T03:20:39.619350Z"
    }
   },
   "outputs": [],
   "source": [
    "features_to_lag=['store_id','total_supply', 'meals_saved', 'item_view']"
   ]
  },
  {
   "cell_type": "code",
   "execution_count": 16,
   "metadata": {
    "ExecuteTime": {
     "end_time": "2021-04-10T03:26:18.000155Z",
     "start_time": "2021-04-10T03:20:40.565878Z"
    }
   },
   "outputs": [
    {
     "data": {
      "application/vnd.jupyter.widget-view+json": {
       "model_id": "5a21f78069554b01b83934229858c408",
       "version_major": 2,
       "version_minor": 0
      },
      "text/plain": [
       "HBox(children=(HTML(value=''), FloatProgress(value=0.0, max=10596.0), HTML(value='')))"
      ]
     },
     "metadata": {},
     "output_type": "display_data"
    },
    {
     "name": "stdout",
     "output_type": "stream",
     "text": [
      "\n"
     ]
    }
   ],
   "source": [
    "X_temp = X_test_final[features_to_lag]\n",
    "X_ = np.zeros((len(X_temp), 49))\n",
    "compteur = 0\n",
    "for i in tqdm(list(X_temp.store_id.unique())):\n",
    "    df = X_temp[X_temp['store_id'] == i].copy()\n",
    "    for i in range(1, 16):\n",
    "        for col in ['total_supply', 'meals_saved', 'item_view']:\n",
    "            df[\"{}_lag_{}\".format(col, i)] = df[col].shift(i)\n",
    "    buf = df.to_numpy()\n",
    "    X_[compteur:compteur+len(buf), :] = buf\n",
    "    compteur += len(buf)"
   ]
  },
  {
   "cell_type": "code",
   "execution_count": 17,
   "metadata": {
    "ExecuteTime": {
     "end_time": "2021-04-10T03:29:52.207146Z",
     "start_time": "2021-04-10T03:29:52.135981Z"
    }
   },
   "outputs": [],
   "source": [
    "X_shifted = pd.DataFrame(X_, columns=df.columns)\n",
    "X_test_final.drop(columns=['store_id'], axis=1, inplace=True)\n",
    "X_test_final.reset_index(drop=True, inplace=True)"
   ]
  },
  {
   "cell_type": "code",
   "execution_count": 20,
   "metadata": {
    "ExecuteTime": {
     "end_time": "2021-04-10T03:32:20.286405Z",
     "start_time": "2021-04-10T03:32:19.834955Z"
    }
   },
   "outputs": [],
   "source": [
    "test = pd.concat([X_test_final, X_shifted], axis=1)"
   ]
  },
  {
   "cell_type": "code",
   "execution_count": null,
   "metadata": {
    "ExecuteTime": {
     "end_time": "2021-04-12T08:07:18.990873Z",
     "start_time": "2021-04-12T08:07:18.571344Z"
    }
   },
   "outputs": [],
   "source": [
    "test.to_csv('final_test_.csv', index=False) #saving df"
   ]
  },
  {
   "cell_type": "code",
   "execution_count": 23,
   "metadata": {
    "ExecuteTime": {
     "end_time": "2021-04-10T03:35:06.147544Z",
     "start_time": "2021-04-10T03:35:06.023175Z"
    },
    "scrolled": true
   },
   "outputs": [
    {
     "data": {
      "text/html": [
       "<div>\n",
       "<style scoped>\n",
       "    .dataframe tbody tr th:only-of-type {\n",
       "        vertical-align: middle;\n",
       "    }\n",
       "\n",
       "    .dataframe tbody tr th {\n",
       "        vertical-align: top;\n",
       "    }\n",
       "\n",
       "    .dataframe thead th {\n",
       "        text-align: right;\n",
       "    }\n",
       "</style>\n",
       "<table border=\"1\" class=\"dataframe\">\n",
       "  <thead>\n",
       "    <tr style=\"text-align: right;\">\n",
       "      <th></th>\n",
       "      <th>date</th>\n",
       "      <th>Monday</th>\n",
       "      <th>Tuesday</th>\n",
       "      <th>Wednesday</th>\n",
       "      <th>Thursday</th>\n",
       "      <th>Friday</th>\n",
       "      <th>Saturday</th>\n",
       "      <th>Sunday</th>\n",
       "      <th>weekend</th>\n",
       "      <th>parent_chain_id</th>\n",
       "      <th>...</th>\n",
       "      <th>item_view_lag_12</th>\n",
       "      <th>total_supply_lag_13</th>\n",
       "      <th>meals_saved_lag_13</th>\n",
       "      <th>item_view_lag_13</th>\n",
       "      <th>total_supply_lag_14</th>\n",
       "      <th>meals_saved_lag_14</th>\n",
       "      <th>item_view_lag_14</th>\n",
       "      <th>total_supply_lag_15</th>\n",
       "      <th>meals_saved_lag_15</th>\n",
       "      <th>item_view_lag_15</th>\n",
       "    </tr>\n",
       "  </thead>\n",
       "  <tbody>\n",
       "    <tr>\n",
       "      <th>0</th>\n",
       "      <td>2020-04-29</td>\n",
       "      <td>0</td>\n",
       "      <td>0</td>\n",
       "      <td>1</td>\n",
       "      <td>0</td>\n",
       "      <td>0</td>\n",
       "      <td>0</td>\n",
       "      <td>0</td>\n",
       "      <td>0</td>\n",
       "      <td>0.0</td>\n",
       "      <td>...</td>\n",
       "      <td>NaN</td>\n",
       "      <td>NaN</td>\n",
       "      <td>NaN</td>\n",
       "      <td>NaN</td>\n",
       "      <td>NaN</td>\n",
       "      <td>NaN</td>\n",
       "      <td>NaN</td>\n",
       "      <td>NaN</td>\n",
       "      <td>NaN</td>\n",
       "      <td>NaN</td>\n",
       "    </tr>\n",
       "    <tr>\n",
       "      <th>1</th>\n",
       "      <td>2020-04-30</td>\n",
       "      <td>0</td>\n",
       "      <td>0</td>\n",
       "      <td>0</td>\n",
       "      <td>1</td>\n",
       "      <td>0</td>\n",
       "      <td>0</td>\n",
       "      <td>0</td>\n",
       "      <td>0</td>\n",
       "      <td>0.0</td>\n",
       "      <td>...</td>\n",
       "      <td>NaN</td>\n",
       "      <td>NaN</td>\n",
       "      <td>NaN</td>\n",
       "      <td>NaN</td>\n",
       "      <td>NaN</td>\n",
       "      <td>NaN</td>\n",
       "      <td>NaN</td>\n",
       "      <td>NaN</td>\n",
       "      <td>NaN</td>\n",
       "      <td>NaN</td>\n",
       "    </tr>\n",
       "    <tr>\n",
       "      <th>2</th>\n",
       "      <td>2020-05-01</td>\n",
       "      <td>0</td>\n",
       "      <td>0</td>\n",
       "      <td>0</td>\n",
       "      <td>0</td>\n",
       "      <td>1</td>\n",
       "      <td>0</td>\n",
       "      <td>0</td>\n",
       "      <td>0</td>\n",
       "      <td>0.0</td>\n",
       "      <td>...</td>\n",
       "      <td>NaN</td>\n",
       "      <td>NaN</td>\n",
       "      <td>NaN</td>\n",
       "      <td>NaN</td>\n",
       "      <td>NaN</td>\n",
       "      <td>NaN</td>\n",
       "      <td>NaN</td>\n",
       "      <td>NaN</td>\n",
       "      <td>NaN</td>\n",
       "      <td>NaN</td>\n",
       "    </tr>\n",
       "    <tr>\n",
       "      <th>3</th>\n",
       "      <td>2020-04-28</td>\n",
       "      <td>0</td>\n",
       "      <td>1</td>\n",
       "      <td>0</td>\n",
       "      <td>0</td>\n",
       "      <td>0</td>\n",
       "      <td>0</td>\n",
       "      <td>0</td>\n",
       "      <td>0</td>\n",
       "      <td>4696.0</td>\n",
       "      <td>...</td>\n",
       "      <td>NaN</td>\n",
       "      <td>NaN</td>\n",
       "      <td>NaN</td>\n",
       "      <td>NaN</td>\n",
       "      <td>NaN</td>\n",
       "      <td>NaN</td>\n",
       "      <td>NaN</td>\n",
       "      <td>NaN</td>\n",
       "      <td>NaN</td>\n",
       "      <td>NaN</td>\n",
       "    </tr>\n",
       "    <tr>\n",
       "      <th>4</th>\n",
       "      <td>2020-04-29</td>\n",
       "      <td>0</td>\n",
       "      <td>0</td>\n",
       "      <td>1</td>\n",
       "      <td>0</td>\n",
       "      <td>0</td>\n",
       "      <td>0</td>\n",
       "      <td>0</td>\n",
       "      <td>0</td>\n",
       "      <td>4696.0</td>\n",
       "      <td>...</td>\n",
       "      <td>NaN</td>\n",
       "      <td>NaN</td>\n",
       "      <td>NaN</td>\n",
       "      <td>NaN</td>\n",
       "      <td>NaN</td>\n",
       "      <td>NaN</td>\n",
       "      <td>NaN</td>\n",
       "      <td>NaN</td>\n",
       "      <td>NaN</td>\n",
       "      <td>NaN</td>\n",
       "    </tr>\n",
       "    <tr>\n",
       "      <th>...</th>\n",
       "      <td>...</td>\n",
       "      <td>...</td>\n",
       "      <td>...</td>\n",
       "      <td>...</td>\n",
       "      <td>...</td>\n",
       "      <td>...</td>\n",
       "      <td>...</td>\n",
       "      <td>...</td>\n",
       "      <td>...</td>\n",
       "      <td>...</td>\n",
       "      <td>...</td>\n",
       "      <td>...</td>\n",
       "      <td>...</td>\n",
       "      <td>...</td>\n",
       "      <td>...</td>\n",
       "      <td>...</td>\n",
       "      <td>...</td>\n",
       "      <td>...</td>\n",
       "      <td>...</td>\n",
       "      <td>...</td>\n",
       "      <td>...</td>\n",
       "    </tr>\n",
       "    <tr>\n",
       "      <th>494510</th>\n",
       "      <td>2020-04-27</td>\n",
       "      <td>1</td>\n",
       "      <td>0</td>\n",
       "      <td>0</td>\n",
       "      <td>0</td>\n",
       "      <td>0</td>\n",
       "      <td>0</td>\n",
       "      <td>0</td>\n",
       "      <td>0</td>\n",
       "      <td>0.0</td>\n",
       "      <td>...</td>\n",
       "      <td>4.0</td>\n",
       "      <td>0.0</td>\n",
       "      <td>0.0</td>\n",
       "      <td>1.0</td>\n",
       "      <td>0.0</td>\n",
       "      <td>0.0</td>\n",
       "      <td>1.0</td>\n",
       "      <td>0.0</td>\n",
       "      <td>0.0</td>\n",
       "      <td>4.0</td>\n",
       "    </tr>\n",
       "    <tr>\n",
       "      <th>494511</th>\n",
       "      <td>2020-04-28</td>\n",
       "      <td>0</td>\n",
       "      <td>1</td>\n",
       "      <td>0</td>\n",
       "      <td>0</td>\n",
       "      <td>0</td>\n",
       "      <td>0</td>\n",
       "      <td>0</td>\n",
       "      <td>0</td>\n",
       "      <td>0.0</td>\n",
       "      <td>...</td>\n",
       "      <td>5.0</td>\n",
       "      <td>0.0</td>\n",
       "      <td>0.0</td>\n",
       "      <td>4.0</td>\n",
       "      <td>0.0</td>\n",
       "      <td>0.0</td>\n",
       "      <td>1.0</td>\n",
       "      <td>0.0</td>\n",
       "      <td>0.0</td>\n",
       "      <td>1.0</td>\n",
       "    </tr>\n",
       "    <tr>\n",
       "      <th>494512</th>\n",
       "      <td>2020-04-29</td>\n",
       "      <td>0</td>\n",
       "      <td>0</td>\n",
       "      <td>1</td>\n",
       "      <td>0</td>\n",
       "      <td>0</td>\n",
       "      <td>0</td>\n",
       "      <td>0</td>\n",
       "      <td>0</td>\n",
       "      <td>0.0</td>\n",
       "      <td>...</td>\n",
       "      <td>1.0</td>\n",
       "      <td>0.0</td>\n",
       "      <td>0.0</td>\n",
       "      <td>5.0</td>\n",
       "      <td>0.0</td>\n",
       "      <td>0.0</td>\n",
       "      <td>4.0</td>\n",
       "      <td>0.0</td>\n",
       "      <td>0.0</td>\n",
       "      <td>1.0</td>\n",
       "    </tr>\n",
       "    <tr>\n",
       "      <th>494513</th>\n",
       "      <td>2020-04-30</td>\n",
       "      <td>0</td>\n",
       "      <td>0</td>\n",
       "      <td>0</td>\n",
       "      <td>1</td>\n",
       "      <td>0</td>\n",
       "      <td>0</td>\n",
       "      <td>0</td>\n",
       "      <td>0</td>\n",
       "      <td>0.0</td>\n",
       "      <td>...</td>\n",
       "      <td>1.0</td>\n",
       "      <td>0.0</td>\n",
       "      <td>0.0</td>\n",
       "      <td>1.0</td>\n",
       "      <td>0.0</td>\n",
       "      <td>0.0</td>\n",
       "      <td>5.0</td>\n",
       "      <td>0.0</td>\n",
       "      <td>0.0</td>\n",
       "      <td>4.0</td>\n",
       "    </tr>\n",
       "    <tr>\n",
       "      <th>494514</th>\n",
       "      <td>2020-05-01</td>\n",
       "      <td>0</td>\n",
       "      <td>0</td>\n",
       "      <td>0</td>\n",
       "      <td>0</td>\n",
       "      <td>1</td>\n",
       "      <td>0</td>\n",
       "      <td>0</td>\n",
       "      <td>0</td>\n",
       "      <td>0.0</td>\n",
       "      <td>...</td>\n",
       "      <td>1.0</td>\n",
       "      <td>0.0</td>\n",
       "      <td>0.0</td>\n",
       "      <td>1.0</td>\n",
       "      <td>0.0</td>\n",
       "      <td>0.0</td>\n",
       "      <td>1.0</td>\n",
       "      <td>0.0</td>\n",
       "      <td>0.0</td>\n",
       "      <td>5.0</td>\n",
       "    </tr>\n",
       "  </tbody>\n",
       "</table>\n",
       "<p>494515 rows × 121 columns</p>\n",
       "</div>"
      ],
      "text/plain": [
       "             date  Monday  Tuesday  Wednesday  Thursday  Friday  Saturday  \\\n",
       "0      2020-04-29       0        0          1         0       0         0   \n",
       "1      2020-04-30       0        0          0         1       0         0   \n",
       "2      2020-05-01       0        0          0         0       1         0   \n",
       "3      2020-04-28       0        1          0         0       0         0   \n",
       "4      2020-04-29       0        0          1         0       0         0   \n",
       "...           ...     ...      ...        ...       ...     ...       ...   \n",
       "494510 2020-04-27       1        0          0         0       0         0   \n",
       "494511 2020-04-28       0        1          0         0       0         0   \n",
       "494512 2020-04-29       0        0          1         0       0         0   \n",
       "494513 2020-04-30       0        0          0         1       0         0   \n",
       "494514 2020-05-01       0        0          0         0       1         0   \n",
       "\n",
       "        Sunday  weekend  parent_chain_id  ...  item_view_lag_12  \\\n",
       "0            0        0              0.0  ...               NaN   \n",
       "1            0        0              0.0  ...               NaN   \n",
       "2            0        0              0.0  ...               NaN   \n",
       "3            0        0           4696.0  ...               NaN   \n",
       "4            0        0           4696.0  ...               NaN   \n",
       "...        ...      ...              ...  ...               ...   \n",
       "494510       0        0              0.0  ...               4.0   \n",
       "494511       0        0              0.0  ...               5.0   \n",
       "494512       0        0              0.0  ...               1.0   \n",
       "494513       0        0              0.0  ...               1.0   \n",
       "494514       0        0              0.0  ...               1.0   \n",
       "\n",
       "        total_supply_lag_13  meals_saved_lag_13  item_view_lag_13  \\\n",
       "0                       NaN                 NaN               NaN   \n",
       "1                       NaN                 NaN               NaN   \n",
       "2                       NaN                 NaN               NaN   \n",
       "3                       NaN                 NaN               NaN   \n",
       "4                       NaN                 NaN               NaN   \n",
       "...                     ...                 ...               ...   \n",
       "494510                  0.0                 0.0               1.0   \n",
       "494511                  0.0                 0.0               4.0   \n",
       "494512                  0.0                 0.0               5.0   \n",
       "494513                  0.0                 0.0               1.0   \n",
       "494514                  0.0                 0.0               1.0   \n",
       "\n",
       "        total_supply_lag_14  meals_saved_lag_14  item_view_lag_14  \\\n",
       "0                       NaN                 NaN               NaN   \n",
       "1                       NaN                 NaN               NaN   \n",
       "2                       NaN                 NaN               NaN   \n",
       "3                       NaN                 NaN               NaN   \n",
       "4                       NaN                 NaN               NaN   \n",
       "...                     ...                 ...               ...   \n",
       "494510                  0.0                 0.0               1.0   \n",
       "494511                  0.0                 0.0               1.0   \n",
       "494512                  0.0                 0.0               4.0   \n",
       "494513                  0.0                 0.0               5.0   \n",
       "494514                  0.0                 0.0               1.0   \n",
       "\n",
       "        total_supply_lag_15  meals_saved_lag_15  item_view_lag_15  \n",
       "0                       NaN                 NaN               NaN  \n",
       "1                       NaN                 NaN               NaN  \n",
       "2                       NaN                 NaN               NaN  \n",
       "3                       NaN                 NaN               NaN  \n",
       "4                       NaN                 NaN               NaN  \n",
       "...                     ...                 ...               ...  \n",
       "494510                  0.0                 0.0               4.0  \n",
       "494511                  0.0                 0.0               1.0  \n",
       "494512                  0.0                 0.0               1.0  \n",
       "494513                  0.0                 0.0               4.0  \n",
       "494514                  0.0                 0.0               5.0  \n",
       "\n",
       "[494515 rows x 121 columns]"
      ]
     },
     "execution_count": 23,
     "metadata": {},
     "output_type": "execute_result"
    }
   ],
   "source": [
    "test"
   ]
  }
 ],
 "metadata": {
  "kernelspec": {
   "display_name": "Python 3",
   "language": "python",
   "name": "python3"
  },
  "language_info": {
   "codemirror_mode": {
    "name": "ipython",
    "version": 3
   },
   "file_extension": ".py",
   "mimetype": "text/x-python",
   "name": "python",
   "nbconvert_exporter": "python",
   "pygments_lexer": "ipython3",
   "version": "3.8.5"
  },
  "toc": {
   "base_numbering": 1,
   "nav_menu": {},
   "number_sections": true,
   "sideBar": true,
   "skip_h1_title": false,
   "title_cell": "Table of Contents",
   "title_sidebar": "Contents",
   "toc_cell": true,
   "toc_position": {},
   "toc_section_display": true,
   "toc_window_display": true
  }
 },
 "nbformat": 4,
 "nbformat_minor": 4
}
